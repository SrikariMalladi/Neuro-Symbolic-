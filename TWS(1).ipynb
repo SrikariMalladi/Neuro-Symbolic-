{
 "cells": [
  {
   "cell_type": "markdown",
   "id": "f8246b9e",
   "metadata": {},
   "source": [
    "# Here's a refined and unique title that emphasizes the advanced and hybrid nature of your sentiment analysis approach, focusing on machine learning and graph-based methods:\n",
    "\n",
    "---\n",
    "\n",
    "**\"Advancing Sentiment Analysis through Hybrid Machine Learning and Graph-Based Techniques: A Novel Integration of Heterogeneous Graph Neural Networks and Transformer-Based Models\"**\n",
    "\n",
    "---\n",
    "\n",
    "### Key Points in the Title:\n",
    "\n",
    "- **\"Advancing Sentiment Analysis\"**: Highlights the focus on improving sentiment analysis.\n",
    "- **\"Hybrid Machine Learning and Graph-Based Techniques\"**: Indicates the integration of different methodologies.\n",
    "- **\"A Novel Integration\"**: Emphasizes the originality and innovative approach.\n",
    "- **\"Heterogeneous Graph Neural Networks and Transformer-Based Models\"**: Focuses on the key models used, without listing all methods, ensuring the title remains concise and impactful."
   ]
  },
  {
   "cell_type": "markdown",
   "id": "ab0733e6",
   "metadata": {},
   "source": [
    "## IMPORTING NECESSARY LIBRARIES"
   ]
  },
  {
   "cell_type": "code",
   "execution_count": 1,
   "id": "c95e88b0",
   "metadata": {},
   "outputs": [],
   "source": [
    "import numpy as np\n",
    "import pandas as pd\n",
    "import seaborn as sns\n",
    "import matplotlib.pyplot as plt"
   ]
  },
  {
   "cell_type": "markdown",
   "id": "cd5c4983",
   "metadata": {},
   "source": [
    "### LOAD DATASET"
   ]
  },
  {
   "cell_type": "code",
   "execution_count": 2,
   "id": "50eabdb7",
   "metadata": {},
   "outputs": [
    {
     "data": {
      "text/html": [
       "<div>\n",
       "<style scoped>\n",
       "    .dataframe tbody tr th:only-of-type {\n",
       "        vertical-align: middle;\n",
       "    }\n",
       "\n",
       "    .dataframe tbody tr th {\n",
       "        vertical-align: top;\n",
       "    }\n",
       "\n",
       "    .dataframe thead th {\n",
       "        text-align: right;\n",
       "    }\n",
       "</style>\n",
       "<table border=\"1\" class=\"dataframe\">\n",
       "  <thead>\n",
       "    <tr style=\"text-align: right;\">\n",
       "      <th></th>\n",
       "      <th>Id</th>\n",
       "      <th>Date</th>\n",
       "      <th>User</th>\n",
       "      <th>Tweet</th>\n",
       "      <th>Emotion</th>\n",
       "    </tr>\n",
       "  </thead>\n",
       "  <tbody>\n",
       "    <tr>\n",
       "      <th>0</th>\n",
       "      <td>0</td>\n",
       "      <td>2019-05-18 19:49:52+00:00</td>\n",
       "      <td>Sunnysweet16</td>\n",
       "      <td>Wonder why no academic or journalist asks INC ...</td>\n",
       "      <td>pos</td>\n",
       "    </tr>\n",
       "    <tr>\n",
       "      <th>1</th>\n",
       "      <td>1</td>\n",
       "      <td>2019-05-18 18:56:52+00:00</td>\n",
       "      <td>drnitinchaube</td>\n",
       "      <td>Congrats for the change #australiavotes2019 an...</td>\n",
       "      <td>pos</td>\n",
       "    </tr>\n",
       "    <tr>\n",
       "      <th>2</th>\n",
       "      <td>2</td>\n",
       "      <td>2019-05-18 18:54:01+00:00</td>\n",
       "      <td>mrvivek07</td>\n",
       "      <td>Peopel Say “Govt Ne 70 Years Kya kiya”.\\nUnse ...</td>\n",
       "      <td>neg</td>\n",
       "    </tr>\n",
       "    <tr>\n",
       "      <th>3</th>\n",
       "      <td>3</td>\n",
       "      <td>2019-05-18 18:52:03+00:00</td>\n",
       "      <td>JosephPravinP</td>\n",
       "      <td>@ajaymaken @RahulGandhi And as a final touch, ...</td>\n",
       "      <td>pos</td>\n",
       "    </tr>\n",
       "    <tr>\n",
       "      <th>4</th>\n",
       "      <td>4</td>\n",
       "      <td>2019-05-18 18:31:10+00:00</td>\n",
       "      <td>VandanaMegastar</td>\n",
       "      <td>#LokSabhaElections2019 Anyone not having mass ...</td>\n",
       "      <td>pos</td>\n",
       "    </tr>\n",
       "    <tr>\n",
       "      <th>...</th>\n",
       "      <td>...</td>\n",
       "      <td>...</td>\n",
       "      <td>...</td>\n",
       "      <td>...</td>\n",
       "      <td>...</td>\n",
       "    </tr>\n",
       "    <tr>\n",
       "      <th>14256</th>\n",
       "      <td>14256</td>\n",
       "      <td>2019-03-23 04:53:54+00:00</td>\n",
       "      <td>SunjayJK</td>\n",
       "      <td>@quizzicalguy In this #LokSabhaElections2019, ...</td>\n",
       "      <td>pos</td>\n",
       "    </tr>\n",
       "    <tr>\n",
       "      <th>14257</th>\n",
       "      <td>14257</td>\n",
       "      <td>2019-03-17 08:53:28+00:00</td>\n",
       "      <td>SunjayJK</td>\n",
       "      <td>@AnumaVidisha @RahulGandhi @ArvindKejriwal whe...</td>\n",
       "      <td>neg</td>\n",
       "    </tr>\n",
       "    <tr>\n",
       "      <th>14258</th>\n",
       "      <td>14258</td>\n",
       "      <td>2019-03-06 10:20:09+00:00</td>\n",
       "      <td>RAMANKAIRA</td>\n",
       "      <td>@sherryontopp Early morning #political move af...</td>\n",
       "      <td>neg</td>\n",
       "    </tr>\n",
       "    <tr>\n",
       "      <th>14259</th>\n",
       "      <td>14259</td>\n",
       "      <td>2019-03-06 10:18:02+00:00</td>\n",
       "      <td>RAMANKAIRA</td>\n",
       "      <td>@mayankgandhi04 @mallesh_2004 Early morning #p...</td>\n",
       "      <td>neg</td>\n",
       "    </tr>\n",
       "    <tr>\n",
       "      <th>14260</th>\n",
       "      <td>14260</td>\n",
       "      <td>2019-03-06 10:11:43+00:00</td>\n",
       "      <td>RAMANKAIRA</td>\n",
       "      <td>@DrKumarVishwas Early morning #political move ...</td>\n",
       "      <td>neg</td>\n",
       "    </tr>\n",
       "  </tbody>\n",
       "</table>\n",
       "<p>14261 rows × 5 columns</p>\n",
       "</div>"
      ],
      "text/plain": [
       "          Id                       Date             User  \\\n",
       "0          0  2019-05-18 19:49:52+00:00     Sunnysweet16   \n",
       "1          1  2019-05-18 18:56:52+00:00    drnitinchaube   \n",
       "2          2  2019-05-18 18:54:01+00:00        mrvivek07   \n",
       "3          3  2019-05-18 18:52:03+00:00    JosephPravinP   \n",
       "4          4  2019-05-18 18:31:10+00:00  VandanaMegastar   \n",
       "...      ...                        ...              ...   \n",
       "14256  14256  2019-03-23 04:53:54+00:00         SunjayJK   \n",
       "14257  14257  2019-03-17 08:53:28+00:00         SunjayJK   \n",
       "14258  14258  2019-03-06 10:20:09+00:00       RAMANKAIRA   \n",
       "14259  14259  2019-03-06 10:18:02+00:00       RAMANKAIRA   \n",
       "14260  14260  2019-03-06 10:11:43+00:00       RAMANKAIRA   \n",
       "\n",
       "                                                   Tweet Emotion  \n",
       "0      Wonder why no academic or journalist asks INC ...     pos  \n",
       "1      Congrats for the change #australiavotes2019 an...     pos  \n",
       "2      Peopel Say “Govt Ne 70 Years Kya kiya”.\\nUnse ...     neg  \n",
       "3      @ajaymaken @RahulGandhi And as a final touch, ...     pos  \n",
       "4      #LokSabhaElections2019 Anyone not having mass ...     pos  \n",
       "...                                                  ...     ...  \n",
       "14256  @quizzicalguy In this #LokSabhaElections2019, ...     pos  \n",
       "14257  @AnumaVidisha @RahulGandhi @ArvindKejriwal whe...     neg  \n",
       "14258  @sherryontopp Early morning #political move af...     neg  \n",
       "14259  @mayankgandhi04 @mallesh_2004 Early morning #p...     neg  \n",
       "14260  @DrKumarVishwas Early morning #political move ...     neg  \n",
       "\n",
       "[14261 rows x 5 columns]"
      ]
     },
     "execution_count": 2,
     "metadata": {},
     "output_type": "execute_result"
    }
   ],
   "source": [
    "df = pd.read_csv(\"TweetsWithSentiment.csv\")\n",
    "df"
   ]
  },
  {
   "cell_type": "markdown",
   "id": "05d7d16a",
   "metadata": {},
   "source": [
    "### Verifying it as a 'dataframe' object in pandas"
   ]
  },
  {
   "cell_type": "code",
   "execution_count": 3,
   "id": "5d18fa28",
   "metadata": {},
   "outputs": [
    {
     "data": {
      "text/plain": [
       "pandas.core.frame.DataFrame"
      ]
     },
     "execution_count": 3,
     "metadata": {},
     "output_type": "execute_result"
    }
   ],
   "source": [
    "type(df)"
   ]
  },
  {
   "cell_type": "markdown",
   "id": "b210a01d",
   "metadata": {},
   "source": [
    "### Shape of dataset"
   ]
  },
  {
   "cell_type": "code",
   "execution_count": 4,
   "id": "7fab991b",
   "metadata": {},
   "outputs": [
    {
     "data": {
      "text/plain": [
       "(14261, 5)"
      ]
     },
     "execution_count": 4,
     "metadata": {},
     "output_type": "execute_result"
    }
   ],
   "source": [
    "df.shape"
   ]
  },
  {
   "cell_type": "markdown",
   "id": "a835cbf3",
   "metadata": {},
   "source": [
    "### Printing out a few columns"
   ]
  },
  {
   "cell_type": "code",
   "execution_count": 5,
   "id": "2b946d40",
   "metadata": {},
   "outputs": [
    {
     "data": {
      "text/html": [
       "<div>\n",
       "<style scoped>\n",
       "    .dataframe tbody tr th:only-of-type {\n",
       "        vertical-align: middle;\n",
       "    }\n",
       "\n",
       "    .dataframe tbody tr th {\n",
       "        vertical-align: top;\n",
       "    }\n",
       "\n",
       "    .dataframe thead th {\n",
       "        text-align: right;\n",
       "    }\n",
       "</style>\n",
       "<table border=\"1\" class=\"dataframe\">\n",
       "  <thead>\n",
       "    <tr style=\"text-align: right;\">\n",
       "      <th></th>\n",
       "      <th>Id</th>\n",
       "      <th>Date</th>\n",
       "      <th>User</th>\n",
       "      <th>Tweet</th>\n",
       "      <th>Emotion</th>\n",
       "    </tr>\n",
       "  </thead>\n",
       "  <tbody>\n",
       "    <tr>\n",
       "      <th>0</th>\n",
       "      <td>0</td>\n",
       "      <td>2019-05-18 19:49:52+00:00</td>\n",
       "      <td>Sunnysweet16</td>\n",
       "      <td>Wonder why no academic or journalist asks INC ...</td>\n",
       "      <td>pos</td>\n",
       "    </tr>\n",
       "    <tr>\n",
       "      <th>1</th>\n",
       "      <td>1</td>\n",
       "      <td>2019-05-18 18:56:52+00:00</td>\n",
       "      <td>drnitinchaube</td>\n",
       "      <td>Congrats for the change #australiavotes2019 an...</td>\n",
       "      <td>pos</td>\n",
       "    </tr>\n",
       "    <tr>\n",
       "      <th>2</th>\n",
       "      <td>2</td>\n",
       "      <td>2019-05-18 18:54:01+00:00</td>\n",
       "      <td>mrvivek07</td>\n",
       "      <td>Peopel Say “Govt Ne 70 Years Kya kiya”.\\nUnse ...</td>\n",
       "      <td>neg</td>\n",
       "    </tr>\n",
       "    <tr>\n",
       "      <th>3</th>\n",
       "      <td>3</td>\n",
       "      <td>2019-05-18 18:52:03+00:00</td>\n",
       "      <td>JosephPravinP</td>\n",
       "      <td>@ajaymaken @RahulGandhi And as a final touch, ...</td>\n",
       "      <td>pos</td>\n",
       "    </tr>\n",
       "    <tr>\n",
       "      <th>4</th>\n",
       "      <td>4</td>\n",
       "      <td>2019-05-18 18:31:10+00:00</td>\n",
       "      <td>VandanaMegastar</td>\n",
       "      <td>#LokSabhaElections2019 Anyone not having mass ...</td>\n",
       "      <td>pos</td>\n",
       "    </tr>\n",
       "  </tbody>\n",
       "</table>\n",
       "</div>"
      ],
      "text/plain": [
       "   Id                       Date             User  \\\n",
       "0   0  2019-05-18 19:49:52+00:00     Sunnysweet16   \n",
       "1   1  2019-05-18 18:56:52+00:00    drnitinchaube   \n",
       "2   2  2019-05-18 18:54:01+00:00        mrvivek07   \n",
       "3   3  2019-05-18 18:52:03+00:00    JosephPravinP   \n",
       "4   4  2019-05-18 18:31:10+00:00  VandanaMegastar   \n",
       "\n",
       "                                               Tweet Emotion  \n",
       "0  Wonder why no academic or journalist asks INC ...     pos  \n",
       "1  Congrats for the change #australiavotes2019 an...     pos  \n",
       "2  Peopel Say “Govt Ne 70 Years Kya kiya”.\\nUnse ...     neg  \n",
       "3  @ajaymaken @RahulGandhi And as a final touch, ...     pos  \n",
       "4  #LokSabhaElections2019 Anyone not having mass ...     pos  "
      ]
     },
     "execution_count": 5,
     "metadata": {},
     "output_type": "execute_result"
    }
   ],
   "source": [
    "df.head()"
   ]
  },
  {
   "cell_type": "code",
   "execution_count": 6,
   "id": "02514abe",
   "metadata": {},
   "outputs": [
    {
     "data": {
      "text/html": [
       "<div>\n",
       "<style scoped>\n",
       "    .dataframe tbody tr th:only-of-type {\n",
       "        vertical-align: middle;\n",
       "    }\n",
       "\n",
       "    .dataframe tbody tr th {\n",
       "        vertical-align: top;\n",
       "    }\n",
       "\n",
       "    .dataframe thead th {\n",
       "        text-align: right;\n",
       "    }\n",
       "</style>\n",
       "<table border=\"1\" class=\"dataframe\">\n",
       "  <thead>\n",
       "    <tr style=\"text-align: right;\">\n",
       "      <th></th>\n",
       "      <th>Id</th>\n",
       "      <th>Date</th>\n",
       "      <th>User</th>\n",
       "      <th>Tweet</th>\n",
       "      <th>Emotion</th>\n",
       "    </tr>\n",
       "  </thead>\n",
       "  <tbody>\n",
       "    <tr>\n",
       "      <th>14256</th>\n",
       "      <td>14256</td>\n",
       "      <td>2019-03-23 04:53:54+00:00</td>\n",
       "      <td>SunjayJK</td>\n",
       "      <td>@quizzicalguy In this #LokSabhaElections2019, ...</td>\n",
       "      <td>pos</td>\n",
       "    </tr>\n",
       "    <tr>\n",
       "      <th>14257</th>\n",
       "      <td>14257</td>\n",
       "      <td>2019-03-17 08:53:28+00:00</td>\n",
       "      <td>SunjayJK</td>\n",
       "      <td>@AnumaVidisha @RahulGandhi @ArvindKejriwal whe...</td>\n",
       "      <td>neg</td>\n",
       "    </tr>\n",
       "    <tr>\n",
       "      <th>14258</th>\n",
       "      <td>14258</td>\n",
       "      <td>2019-03-06 10:20:09+00:00</td>\n",
       "      <td>RAMANKAIRA</td>\n",
       "      <td>@sherryontopp Early morning #political move af...</td>\n",
       "      <td>neg</td>\n",
       "    </tr>\n",
       "    <tr>\n",
       "      <th>14259</th>\n",
       "      <td>14259</td>\n",
       "      <td>2019-03-06 10:18:02+00:00</td>\n",
       "      <td>RAMANKAIRA</td>\n",
       "      <td>@mayankgandhi04 @mallesh_2004 Early morning #p...</td>\n",
       "      <td>neg</td>\n",
       "    </tr>\n",
       "    <tr>\n",
       "      <th>14260</th>\n",
       "      <td>14260</td>\n",
       "      <td>2019-03-06 10:11:43+00:00</td>\n",
       "      <td>RAMANKAIRA</td>\n",
       "      <td>@DrKumarVishwas Early morning #political move ...</td>\n",
       "      <td>neg</td>\n",
       "    </tr>\n",
       "  </tbody>\n",
       "</table>\n",
       "</div>"
      ],
      "text/plain": [
       "          Id                       Date        User  \\\n",
       "14256  14256  2019-03-23 04:53:54+00:00    SunjayJK   \n",
       "14257  14257  2019-03-17 08:53:28+00:00    SunjayJK   \n",
       "14258  14258  2019-03-06 10:20:09+00:00  RAMANKAIRA   \n",
       "14259  14259  2019-03-06 10:18:02+00:00  RAMANKAIRA   \n",
       "14260  14260  2019-03-06 10:11:43+00:00  RAMANKAIRA   \n",
       "\n",
       "                                                   Tweet Emotion  \n",
       "14256  @quizzicalguy In this #LokSabhaElections2019, ...     pos  \n",
       "14257  @AnumaVidisha @RahulGandhi @ArvindKejriwal whe...     neg  \n",
       "14258  @sherryontopp Early morning #political move af...     neg  \n",
       "14259  @mayankgandhi04 @mallesh_2004 Early morning #p...     neg  \n",
       "14260  @DrKumarVishwas Early morning #political move ...     neg  "
      ]
     },
     "execution_count": 6,
     "metadata": {},
     "output_type": "execute_result"
    }
   ],
   "source": [
    "df.tail()"
   ]
  },
  {
   "cell_type": "code",
   "execution_count": 7,
   "id": "d21d79a3",
   "metadata": {},
   "outputs": [
    {
     "data": {
      "text/html": [
       "<div>\n",
       "<style scoped>\n",
       "    .dataframe tbody tr th:only-of-type {\n",
       "        vertical-align: middle;\n",
       "    }\n",
       "\n",
       "    .dataframe tbody tr th {\n",
       "        vertical-align: top;\n",
       "    }\n",
       "\n",
       "    .dataframe thead th {\n",
       "        text-align: right;\n",
       "    }\n",
       "</style>\n",
       "<table border=\"1\" class=\"dataframe\">\n",
       "  <thead>\n",
       "    <tr style=\"text-align: right;\">\n",
       "      <th></th>\n",
       "      <th>Id</th>\n",
       "    </tr>\n",
       "  </thead>\n",
       "  <tbody>\n",
       "    <tr>\n",
       "      <th>count</th>\n",
       "      <td>14261.000000</td>\n",
       "    </tr>\n",
       "    <tr>\n",
       "      <th>mean</th>\n",
       "      <td>7130.000000</td>\n",
       "    </tr>\n",
       "    <tr>\n",
       "      <th>std</th>\n",
       "      <td>4116.940429</td>\n",
       "    </tr>\n",
       "    <tr>\n",
       "      <th>min</th>\n",
       "      <td>0.000000</td>\n",
       "    </tr>\n",
       "    <tr>\n",
       "      <th>25%</th>\n",
       "      <td>3565.000000</td>\n",
       "    </tr>\n",
       "    <tr>\n",
       "      <th>50%</th>\n",
       "      <td>7130.000000</td>\n",
       "    </tr>\n",
       "    <tr>\n",
       "      <th>75%</th>\n",
       "      <td>10695.000000</td>\n",
       "    </tr>\n",
       "    <tr>\n",
       "      <th>max</th>\n",
       "      <td>14260.000000</td>\n",
       "    </tr>\n",
       "  </tbody>\n",
       "</table>\n",
       "</div>"
      ],
      "text/plain": [
       "                 Id\n",
       "count  14261.000000\n",
       "mean    7130.000000\n",
       "std     4116.940429\n",
       "min        0.000000\n",
       "25%     3565.000000\n",
       "50%     7130.000000\n",
       "75%    10695.000000\n",
       "max    14260.000000"
      ]
     },
     "execution_count": 7,
     "metadata": {},
     "output_type": "execute_result"
    }
   ],
   "source": [
    "df.describe()"
   ]
  },
  {
   "cell_type": "code",
   "execution_count": 8,
   "id": "320224e5",
   "metadata": {},
   "outputs": [
    {
     "name": "stdout",
     "output_type": "stream",
     "text": [
      "<class 'pandas.core.frame.DataFrame'>\n",
      "RangeIndex: 14261 entries, 0 to 14260\n",
      "Data columns (total 5 columns):\n",
      " #   Column   Non-Null Count  Dtype \n",
      "---  ------   --------------  ----- \n",
      " 0   Id       14261 non-null  int64 \n",
      " 1   Date     14261 non-null  object\n",
      " 2   User     14261 non-null  object\n",
      " 3   Tweet    14261 non-null  object\n",
      " 4   Emotion  14261 non-null  object\n",
      "dtypes: int64(1), object(4)\n",
      "memory usage: 557.2+ KB\n"
     ]
    }
   ],
   "source": [
    "df.info()"
   ]
  },
  {
   "cell_type": "markdown",
   "id": "e665118d",
   "metadata": {},
   "source": [
    "### Check for missing values"
   ]
  },
  {
   "cell_type": "code",
   "execution_count": 9,
   "id": "e3a73ebb",
   "metadata": {},
   "outputs": [
    {
     "name": "stdout",
     "output_type": "stream",
     "text": [
      "Missing values in each column:\n",
      " Id         0\n",
      "Date       0\n",
      "User       0\n",
      "Tweet      0\n",
      "Emotion    0\n",
      "dtype: int64\n"
     ]
    }
   ],
   "source": [
    "missing_values = df.isnull().sum()\n",
    "print(\"Missing values in each column:\\n\", missing_values)"
   ]
  },
  {
   "cell_type": "markdown",
   "id": "402c8da8",
   "metadata": {},
   "source": [
    "### Checking correlation between columns"
   ]
  },
  {
   "cell_type": "code",
   "execution_count": 10,
   "id": "a297e469",
   "metadata": {},
   "outputs": [
    {
     "name": "stdout",
     "output_type": "stream",
     "text": [
      "Index(['Id', 'Date', 'User', 'Tweet', 'Emotion'], dtype='object')\n"
     ]
    }
   ],
   "source": [
    "print(df.columns)"
   ]
  },
  {
   "cell_type": "code",
   "execution_count": 11,
   "id": "4f13eb27",
   "metadata": {},
   "outputs": [
    {
     "data": {
      "text/plain": [
       "count     14261\n",
       "unique        2\n",
       "top         neg\n",
       "freq       8878\n",
       "Name: Emotion, dtype: object"
      ]
     },
     "execution_count": 11,
     "metadata": {},
     "output_type": "execute_result"
    }
   ],
   "source": [
    "df[\"Emotion\"].describe()"
   ]
  },
  {
   "cell_type": "code",
   "execution_count": 12,
   "id": "c52e9e4c",
   "metadata": {},
   "outputs": [
    {
     "data": {
      "text/plain": [
       "array(['pos', 'neg'], dtype=object)"
      ]
     },
     "execution_count": 12,
     "metadata": {},
     "output_type": "execute_result"
    }
   ],
   "source": [
    "df[\"Emotion\"].unique()"
   ]
  },
  {
   "cell_type": "markdown",
   "id": "2a188303",
   "metadata": {},
   "source": [
    "### EXPLORATORY DATA ANALYSIS (EDA)"
   ]
  },
  {
   "cell_type": "code",
   "execution_count": 13,
   "id": "0b7611ce",
   "metadata": {},
   "outputs": [
    {
     "name": "stdout",
     "output_type": "stream",
     "text": [
      "neg    8878\n",
      "pos    5383\n",
      "Name: Emotion, dtype: int64\n"
     ]
    },
    {
     "data": {
      "image/png": "[encoded data removed]",
      "text/plain": [
       "<Figure size 432x288 with 1 Axes>"
      ]
     },
     "metadata": {
      "needs_background": "light"
     },
     "output_type": "display_data"
    }
   ],
   "source": [
    "emotion_distribution = df['Emotion'].value_counts()\n",
    "\n",
    "sns.countplot(x='Emotion', data=df)\n",
    "\n",
    "print(emotion_distribution)\n",
    "\n",
    "plt.show()"
   ]
  },
  {
   "cell_type": "code",
   "execution_count": 14,
   "id": "d9be1f7a",
   "metadata": {},
   "outputs": [
    {
     "name": "stdout",
     "output_type": "stream",
     "text": [
      "Percentage of 'neg' emotion: 62.25\n",
      "Percentage of 'pos' emotion: 37.75\n"
     ]
    }
   ],
   "source": [
    "total_entries = len(df)\n",
    "\n",
    "emotion_counts = df['Emotion'].value_counts()\n",
    "\n",
    "emotion_percentages = (emotion_counts * 100) / total_entries\n",
    "\n",
    "for emotion, percentage in emotion_percentages.items():\n",
    "    print(f\"Percentage of '{emotion}' emotion: {round(percentage, 2)}\")"
   ]
  },
  {
   "cell_type": "code",
   "execution_count": 15,
   "id": "ba206091",
   "metadata": {},
   "outputs": [
    {
     "name": "stdout",
     "output_type": "stream",
     "text": [
      "Correlation matrix:\n",
      "                    Id  EmotionCode  DateNumeric  UserCode  TweetLength\n",
      "Id           1.000000     0.078160    -0.472394  0.002661    -0.087509\n",
      "EmotionCode  0.078160     1.000000     0.016059  0.012079    -0.131658\n",
      "DateNumeric -0.472394     0.016059     1.000000  0.011321     0.007596\n",
      "UserCode     0.002661     0.012079     0.011321  1.000000    -0.027706\n",
      "TweetLength -0.087509    -0.131658     0.007596 -0.027706     1.000000\n"
     ]
    },
    {
     "data": {
      "image/png": "[encoded data removed]",
      "text/plain": [
       "<Figure size 864x576 with 2 Axes>"
      ]
     },
     "metadata": {
      "needs_background": "light"
     },
     "output_type": "display_data"
    }
   ],
   "source": [
    "if 'Emotion' in df.columns:\n",
    "    df['EmotionCode'] = df['Emotion'].astype('category').cat.codes\n",
    "\n",
    "if 'Date' in df.columns:\n",
    "    df['Date'] = pd.to_datetime(df['Date'], errors='coerce')\n",
    "    df['DateNumeric'] = df['Date'].apply(lambda x: x.timestamp() if pd.notnull(x) else None)\n",
    "\n",
    "if 'User' in df.columns:\n",
    "    df['UserCode'] = df['User'].astype('category').cat.codes\n",
    "\n",
    "if 'Tweet' in df.columns:\n",
    "    df['TweetLength'] = df['Tweet'].apply(lambda x: len(x) if pd.notnull(x) else None)\n",
    "\n",
    "numeric_columns = df.select_dtypes(include=['number']).columns\n",
    "df_numeric = df[numeric_columns]\n",
    "\n",
    "correlation_matrix = df_numeric.corr()\n",
    "\n",
    "print(\"Correlation matrix:\\n\", correlation_matrix)\n",
    "\n",
    "plt.figure(figsize=(12, 8))\n",
    "sns.heatmap(correlation_matrix, annot=True, cmap='coolwarm', fmt='.2f', linewidths=0.5)\n",
    "plt.title('Correlation Matrix')\n",
    "plt.show()"
   ]
  },
  {
   "cell_type": "code",
   "execution_count": 16,
   "id": "043b356a",
   "metadata": {},
   "outputs": [
    {
     "data": {
      "image/png": "[encoded data removed]",
      "text/plain": [
       "<Figure size 1080x720 with 3 Axes>"
      ]
     },
     "metadata": {
      "needs_background": "light"
     },
     "output_type": "display_data"
    }
   ],
   "source": [
    "plt.figure(figsize=(15, 10))\n",
    "\n",
    "for i, column in enumerate(df.select_dtypes(include=['float64', 'int64']).columns, 1):\n",
    "    plt.subplot(len(df.select_dtypes(include=['float64', 'int64']).columns), 1, i)\n",
    "    sns.histplot(df[column], kde=False, bins=20, color='blue')\n",
    "    plt.title(f'Histogram of {column}')\n",
    "    plt.xlabel(column)\n",
    "    plt.ylabel('Frequency')\n",
    "\n",
    "plt.tight_layout()\n",
    "plt.show()"
   ]
  },
  {
   "cell_type": "markdown",
   "id": "af3db27d",
   "metadata": {},
   "source": [
    "### Train Test split"
   ]
  },
  {
   "cell_type": "code",
   "execution_count": 17,
   "id": "8f0aa895",
   "metadata": {},
   "outputs": [],
   "source": [
    "from sklearn.model_selection import train_test_split\n",
    "\n",
    "predictors = df.drop(\"Emotion\",axis=1)\n",
    "target = df[\"Emotion\"]\n",
    "\n",
    "X_train,X_test,Y_train,Y_test = train_test_split(predictors,target,test_size=0.20,random_state=0)"
   ]
  },
  {
   "cell_type": "code",
   "execution_count": 18,
   "id": "98dcc111",
   "metadata": {},
   "outputs": [
    {
     "data": {
      "text/plain": [
       "(11408, 8)"
      ]
     },
     "execution_count": 18,
     "metadata": {},
     "output_type": "execute_result"
    }
   ],
   "source": [
    "X_train.shape"
   ]
  },
  {
   "cell_type": "code",
   "execution_count": 19,
   "id": "ec8e7522",
   "metadata": {},
   "outputs": [
    {
     "data": {
      "text/plain": [
       "(2853, 8)"
      ]
     },
     "execution_count": 19,
     "metadata": {},
     "output_type": "execute_result"
    }
   ],
   "source": [
    "X_test.shape"
   ]
  },
  {
   "cell_type": "code",
   "execution_count": 20,
   "id": "46ea19ae",
   "metadata": {},
   "outputs": [
    {
     "data": {
      "text/plain": [
       "(11408,)"
      ]
     },
     "execution_count": 20,
     "metadata": {},
     "output_type": "execute_result"
    }
   ],
   "source": [
    "Y_train.shape"
   ]
  },
  {
   "cell_type": "code",
   "execution_count": 21,
   "id": "ebbd6e2b",
   "metadata": {},
   "outputs": [
    {
     "data": {
      "text/plain": [
       "(2853,)"
      ]
     },
     "execution_count": 21,
     "metadata": {},
     "output_type": "execute_result"
    }
   ],
   "source": [
    "Y_test.shape"
   ]
  },
  {
   "cell_type": "code",
   "execution_count": 22,
   "id": "c137ad16",
   "metadata": {},
   "outputs": [
    {
     "name": "stdout",
     "output_type": "stream",
     "text": [
      "Requirement already satisfied: networkx in c:\\users\\dell\\anaconda3\\lib\\site-packages (3.2.1)\n",
      "Requirement already satisfied: numpy in c:\\users\\dell\\anaconda3\\lib\\site-packages (1.24.4)\n",
      "Requirement already satisfied: scikit-learn in c:\\users\\dell\\anaconda3\\lib\\site-packages (1.4.2)\n",
      "Requirement already satisfied: scipy>=1.6.0 in c:\\users\\dell\\anaconda3\\lib\\site-packages (from scikit-learn) (1.9.1)\n",
      "Requirement already satisfied: joblib>=1.2.0 in c:\\users\\dell\\anaconda3\\lib\\site-packages (from scikit-learn) (1.4.2)\n",
      "Requirement already satisfied: threadpoolctl>=2.0.0 in c:\\users\\dell\\anaconda3\\lib\\site-packages (from scikit-learn) (3.4.0)\n",
      "Note: you may need to restart the kernel to use updated packages.\n"
     ]
    }
   ],
   "source": [
    "pip install networkx numpy scikit-learn"
   ]
  },
  {
   "cell_type": "code",
   "execution_count": 23,
   "id": "bbf45dd4",
   "metadata": {},
   "outputs": [
    {
     "name": "stdout",
     "output_type": "stream",
     "text": [
      "Requirement already satisfied: dgl in c:\\users\\dell\\anaconda3\\lib\\site-packages (2.2.1)\n",
      "Requirement already satisfied: tensorflow in c:\\users\\dell\\anaconda3\\lib\\site-packages (2.15.0)\n",
      "Requirement already satisfied: numpy in c:\\users\\dell\\anaconda3\\lib\\site-packages (1.24.4)\n",
      "Requirement already satisfied: scikit-learn in c:\\users\\dell\\anaconda3\\lib\\site-packages (1.4.2)\n",
      "Requirement already satisfied: scipy>=1.1.0 in c:\\users\\dell\\anaconda3\\lib\\site-packages (from dgl) (1.9.1)\n",
      "Requirement already satisfied: networkx>=2.1 in c:\\users\\dell\\anaconda3\\lib\\site-packages (from dgl) (3.2.1)\n",
      "Requirement already satisfied: requests>=2.19.0 in c:\\users\\dell\\anaconda3\\lib\\site-packages (from dgl) (2.27.1)\n",
      "Requirement already satisfied: tqdm in c:\\users\\dell\\anaconda3\\lib\\site-packages (from dgl) (4.66.5)\n",
      "Requirement already satisfied: psutil>=5.8.0 in c:\\users\\dell\\anaconda3\\lib\\site-packages (from dgl) (5.8.0)\n",
      "Requirement already satisfied: torchdata>=0.5.0 in c:\\users\\dell\\anaconda3\\lib\\site-packages (from dgl) (0.8.0)\n",
      "Requirement already satisfied: pandas in c:\\users\\dell\\anaconda3\\lib\\site-packages (from dgl) (1.4.2)\n",
      "Requirement already satisfied: tensorflow-intel==2.15.0 in c:\\users\\dell\\anaconda3\\lib\\site-packages (from tensorflow) (2.15.0)\n",
      "Requirement already satisfied: absl-py>=1.0.0 in c:\\users\\dell\\anaconda3\\lib\\site-packages (from tensorflow-intel==2.15.0->tensorflow) (2.0.0)\n",
      "Requirement already satisfied: astunparse>=1.6.0 in c:\\users\\dell\\anaconda3\\lib\\site-packages (from tensorflow-intel==2.15.0->tensorflow) (1.6.3)\n",
      "Requirement already satisfied: flatbuffers>=23.5.26 in c:\\users\\dell\\anaconda3\\lib\\site-packages (from tensorflow-intel==2.15.0->tensorflow) (23.5.26)\n",
      "Requirement already satisfied: gast!=0.5.0,!=0.5.1,!=0.5.2,>=0.2.1 in c:\\users\\dell\\anaconda3\\lib\\site-packages (from tensorflow-intel==2.15.0->tensorflow) (0.5.4)\n",
      "Requirement already satisfied: google-pasta>=0.1.1 in c:\\users\\dell\\anaconda3\\lib\\site-packages (from tensorflow-intel==2.15.0->tensorflow) (0.2.0)\n",
      "Requirement already satisfied: h5py>=2.9.0 in c:\\users\\dell\\anaconda3\\lib\\site-packages (from tensorflow-intel==2.15.0->tensorflow) (3.6.0)\n",
      "Requirement already satisfied: libclang>=13.0.0 in c:\\users\\dell\\anaconda3\\lib\\site-packages (from tensorflow-intel==2.15.0->tensorflow) (16.0.6)\n",
      "Requirement already satisfied: ml-dtypes~=0.2.0 in c:\\users\\dell\\anaconda3\\lib\\site-packages (from tensorflow-intel==2.15.0->tensorflow) (0.2.0)\n",
      "Requirement already satisfied: opt-einsum>=2.3.2 in c:\\users\\dell\\anaconda3\\lib\\site-packages (from tensorflow-intel==2.15.0->tensorflow) (3.3.0)\n",
      "Requirement already satisfied: packaging in c:\\users\\dell\\anaconda3\\lib\\site-packages (from tensorflow-intel==2.15.0->tensorflow) (21.3)\n",
      "Requirement already satisfied: protobuf!=4.21.0,!=4.21.1,!=4.21.2,!=4.21.3,!=4.21.4,!=4.21.5,<5.0.0dev,>=3.20.3 in c:\\users\\dell\\anaconda3\\lib\\site-packages (from tensorflow-intel==2.15.0->tensorflow) (4.23.4)\n",
      "Requirement already satisfied: setuptools in c:\\users\\dell\\anaconda3\\lib\\site-packages (from tensorflow-intel==2.15.0->tensorflow) (61.2.0)\n",
      "Requirement already satisfied: six>=1.12.0 in c:\\users\\dell\\anaconda3\\lib\\site-packages (from tensorflow-intel==2.15.0->tensorflow) (1.16.0)\n",
      "Requirement already satisfied: termcolor>=1.1.0 in c:\\users\\dell\\anaconda3\\lib\\site-packages (from tensorflow-intel==2.15.0->tensorflow) (2.3.0)\n",
      "Requirement already satisfied: typing-extensions>=3.6.6 in c:\\users\\dell\\anaconda3\\lib\\site-packages (from tensorflow-intel==2.15.0->tensorflow) (4.9.0)\n",
      "Requirement already satisfied: wrapt<1.15,>=1.11.0 in c:\\users\\dell\\anaconda3\\lib\\site-packages (from tensorflow-intel==2.15.0->tensorflow) (1.12.1)\n",
      "Requirement already satisfied: tensorflow-io-gcs-filesystem>=0.23.1 in c:\\users\\dell\\anaconda3\\lib\\site-packages (from tensorflow-intel==2.15.0->tensorflow) (0.31.0)\n",
      "Requirement already satisfied: grpcio<2.0,>=1.24.3 in c:\\users\\dell\\anaconda3\\lib\\site-packages (from tensorflow-intel==2.15.0->tensorflow) (1.59.2)\n",
      "Requirement already satisfied: tensorboard<2.16,>=2.15 in c:\\users\\dell\\anaconda3\\lib\\site-packages (from tensorflow-intel==2.15.0->tensorflow) (2.15.1)\n",
      "Requirement already satisfied: tensorflow-estimator<2.16,>=2.15.0 in c:\\users\\dell\\anaconda3\\lib\\site-packages (from tensorflow-intel==2.15.0->tensorflow) (2.15.0)\n",
      "Note: you may need to restart the kernel to use updated packages.\n",
      "Requirement already satisfied: keras<2.16,>=2.15.0 in c:\\users\\dell\\anaconda3\\lib\\site-packages (from tensorflow-intel==2.15.0->tensorflow) (2.15.0)\n",
      "Requirement already satisfied: joblib>=1.2.0 in c:\\users\\dell\\anaconda3\\lib\\site-packages (from scikit-learn) (1.4.2)\n",
      "Requirement already satisfied: threadpoolctl>=2.0.0 in c:\\users\\dell\\anaconda3\\lib\\site-packages (from scikit-learn) (3.4.0)\n",
      "Requirement already satisfied: urllib3<1.27,>=1.21.1 in c:\\users\\dell\\anaconda3\\lib\\site-packages (from requests>=2.19.0->dgl) (1.26.9)\n",
      "Requirement already satisfied: certifi>=2017.4.17 in c:\\users\\dell\\anaconda3\\lib\\site-packages (from requests>=2.19.0->dgl) (2021.10.8)\n",
      "Requirement already satisfied: charset-normalizer~=2.0.0 in c:\\users\\dell\\anaconda3\\lib\\site-packages (from requests>=2.19.0->dgl) (2.0.4)\n",
      "Requirement already satisfied: idna<4,>=2.5 in c:\\users\\dell\\anaconda3\\lib\\site-packages (from requests>=2.19.0->dgl) (3.3)\n",
      "Requirement already satisfied: torch>=2 in c:\\users\\dell\\anaconda3\\lib\\site-packages (from torchdata>=0.5.0->dgl) (2.4.0+cu118)\n",
      "Requirement already satisfied: python-dateutil>=2.8.1 in c:\\users\\dell\\anaconda3\\lib\\site-packages (from pandas->dgl) (2.8.2)\n",
      "Requirement already satisfied: pytz>=2020.1 in c:\\users\\dell\\anaconda3\\lib\\site-packages (from pandas->dgl) (2021.3)\n",
      "Requirement already satisfied: colorama in c:\\users\\dell\\anaconda3\\lib\\site-packages (from tqdm->dgl) (0.4.4)\n",
      "Requirement already satisfied: wheel<1.0,>=0.23.0 in c:\\users\\dell\\anaconda3\\lib\\site-packages (from astunparse>=1.6.0->tensorflow-intel==2.15.0->tensorflow) (0.37.1)\n",
      "Requirement already satisfied: google-auth<3,>=1.6.3 in c:\\users\\dell\\anaconda3\\lib\\site-packages (from tensorboard<2.16,>=2.15->tensorflow-intel==2.15.0->tensorflow) (2.23.4)\n",
      "Requirement already satisfied: google-auth-oauthlib<2,>=0.5 in c:\\users\\dell\\anaconda3\\lib\\site-packages (from tensorboard<2.16,>=2.15->tensorflow-intel==2.15.0->tensorflow) (1.1.0)\n",
      "Requirement already satisfied: markdown>=2.6.8 in c:\\users\\dell\\anaconda3\\lib\\site-packages (from tensorboard<2.16,>=2.15->tensorflow-intel==2.15.0->tensorflow) (3.3.4)\n",
      "Requirement already satisfied: tensorboard-data-server<0.8.0,>=0.7.0 in c:\\users\\dell\\anaconda3\\lib\\site-packages (from tensorboard<2.16,>=2.15->tensorflow-intel==2.15.0->tensorflow) (0.7.2)\n",
      "Requirement already satisfied: werkzeug>=1.0.1 in c:\\users\\dell\\anaconda3\\lib\\site-packages (from tensorboard<2.16,>=2.15->tensorflow-intel==2.15.0->tensorflow) (2.0.3)\n",
      "Requirement already satisfied: filelock in c:\\users\\dell\\anaconda3\\lib\\site-packages (from torch>=2->torchdata>=0.5.0->dgl) (3.6.0)\n",
      "Requirement already satisfied: sympy in c:\\users\\dell\\anaconda3\\lib\\site-packages (from torch>=2->torchdata>=0.5.0->dgl) (1.10.1)\n",
      "Requirement already satisfied: jinja2 in c:\\users\\dell\\anaconda3\\lib\\site-packages (from torch>=2->torchdata>=0.5.0->dgl) (2.11.3)\n",
      "Requirement already satisfied: fsspec in c:\\users\\dell\\anaconda3\\lib\\site-packages (from torch>=2->torchdata>=0.5.0->dgl) (2024.6.1)\n",
      "Requirement already satisfied: pyparsing!=3.0.5,>=2.0.2 in c:\\users\\dell\\anaconda3\\lib\\site-packages (from packaging->tensorflow-intel==2.15.0->tensorflow) (3.0.4)\n",
      "Requirement already satisfied: cachetools<6.0,>=2.0.0 in c:\\users\\dell\\anaconda3\\lib\\site-packages (from google-auth<3,>=1.6.3->tensorboard<2.16,>=2.15->tensorflow-intel==2.15.0->tensorflow) (4.2.2)\n",
      "Requirement already satisfied: pyasn1-modules>=0.2.1 in c:\\users\\dell\\anaconda3\\lib\\site-packages (from google-auth<3,>=1.6.3->tensorboard<2.16,>=2.15->tensorflow-intel==2.15.0->tensorflow) (0.2.8)\n",
      "Requirement already satisfied: rsa<5,>=3.1.4 in c:\\users\\dell\\anaconda3\\lib\\site-packages (from google-auth<3,>=1.6.3->tensorboard<2.16,>=2.15->tensorflow-intel==2.15.0->tensorflow) (4.7.2)\n",
      "Requirement already satisfied: requests-oauthlib>=0.7.0 in c:\\users\\dell\\anaconda3\\lib\\site-packages (from google-auth-oauthlib<2,>=0.5->tensorboard<2.16,>=2.15->tensorflow-intel==2.15.0->tensorflow) (1.3.1)\n",
      "Requirement already satisfied: MarkupSafe>=0.23 in c:\\users\\dell\\anaconda3\\lib\\site-packages (from jinja2->torch>=2->torchdata>=0.5.0->dgl) (2.0.1)\n",
      "Requirement already satisfied: mpmath>=0.19 in c:\\users\\dell\\anaconda3\\lib\\site-packages (from sympy->torch>=2->torchdata>=0.5.0->dgl) (1.2.1)\n",
      "Requirement already satisfied: pyasn1<0.5.0,>=0.4.6 in c:\\users\\dell\\anaconda3\\lib\\site-packages (from pyasn1-modules>=0.2.1->google-auth<3,>=1.6.3->tensorboard<2.16,>=2.15->tensorflow-intel==2.15.0->tensorflow) (0.4.8)\n",
      "Requirement already satisfied: oauthlib>=3.0.0 in c:\\users\\dell\\anaconda3\\lib\\site-packages (from requests-oauthlib>=0.7.0->google-auth-oauthlib<2,>=0.5->tensorboard<2.16,>=2.15->tensorflow-intel==2.15.0->tensorflow) (3.2.2)\n"
     ]
    }
   ],
   "source": [
    "pip install dgl tensorflow numpy scikit-learn"
   ]
  },
  {
   "cell_type": "code",
   "execution_count": 24,
   "id": "9748ca5c",
   "metadata": {},
   "outputs": [
    {
     "name": "stdout",
     "output_type": "stream",
     "text": [
      "Requirement already satisfied: torch in c:\\users\\dell\\anaconda3\\lib\\site-packages (2.4.0+cu118)\n",
      "Requirement already satisfied: torch-geometric in c:\\users\\dell\\anaconda3\\lib\\site-packages (2.5.3)\n",
      "Requirement already satisfied: transformers in c:\\users\\dell\\anaconda3\\lib\\site-packages (4.44.2)\n",
      "Requirement already satisfied: filelock in c:\\users\\dell\\anaconda3\\lib\\site-packages (from torch) (3.6.0)\n",
      "Requirement already satisfied: typing-extensions>=4.8.0 in c:\\users\\dell\\anaconda3\\lib\\site-packages (from torch) (4.9.0)\n",
      "Requirement already satisfied: sympy in c:\\users\\dell\\anaconda3\\lib\\site-packages (from torch) (1.10.1)\n",
      "Requirement already satisfied: networkx in c:\\users\\dell\\anaconda3\\lib\\site-packages (from torch) (3.2.1)\n",
      "Requirement already satisfied: jinja2 in c:\\users\\dell\\anaconda3\\lib\\site-packages (from torch) (2.11.3)\n",
      "Requirement already satisfied: fsspec in c:\\users\\dell\\anaconda3\\lib\\site-packages (from torch) (2024.6.1)\n",
      "Requirement already satisfied: tqdm in c:\\users\\dell\\anaconda3\\lib\\site-packages (from torch-geometric) (4.66.5)\n",
      "Requirement already satisfied: numpy in c:\\users\\dell\\anaconda3\\lib\\site-packages (from torch-geometric) (1.24.4)\n",
      "Requirement already satisfied: scipy in c:\\users\\dell\\anaconda3\\lib\\site-packages (from torch-geometric) (1.9.1)\n",
      "Requirement already satisfied: aiohttp in c:\\users\\dell\\anaconda3\\lib\\site-packages (from torch-geometric) (3.8.1)\n",
      "Requirement already satisfied: requests in c:\\users\\dell\\anaconda3\\lib\\site-packages (from torch-geometric) (2.27.1)\n",
      "Requirement already satisfied: pyparsing in c:\\users\\dell\\anaconda3\\lib\\site-packages (from torch-geometric) (3.0.4)\n",
      "Requirement already satisfied: scikit-learn in c:\\users\\dell\\anaconda3\\lib\\site-packages (from torch-geometric) (1.4.2)\n",
      "Requirement already satisfied: psutil>=5.8.0 in c:\\users\\dell\\anaconda3\\lib\\site-packages (from torch-geometric) (5.8.0)\n",
      "Requirement already satisfied: huggingface-hub<1.0,>=0.23.2 in c:\\users\\dell\\anaconda3\\lib\\site-packages (from transformers) (0.24.6)\n",
      "Requirement already satisfied: packaging>=20.0 in c:\\users\\dell\\anaconda3\\lib\\site-packages (from transformers) (21.3)\n",
      "Requirement already satisfied: pyyaml>=5.1 in c:\\users\\dell\\anaconda3\\lib\\site-packages (from transformers) (6.0)\n",
      "Requirement already satisfied: regex!=2019.12.17 in c:\\users\\dell\\anaconda3\\lib\\site-packages (from transformers) (2022.3.15)\n",
      "Requirement already satisfied: safetensors>=0.4.1 in c:\\users\\dell\\anaconda3\\lib\\site-packages (from transformers) (0.4.4)\n",
      "Requirement already satisfied: tokenizers<0.20,>=0.19 in c:\\users\\dell\\anaconda3\\lib\\site-packages (from transformers) (0.19.1)\n",
      "Requirement already satisfied: colorama in c:\\users\\dell\\anaconda3\\lib\\site-packages (from tqdm->torch-geometric) (0.4.4)\n",
      "Requirement already satisfied: attrs>=17.3.0 in c:\\users\\dell\\anaconda3\\lib\\site-packages (from aiohttp->torch-geometric) (21.4.0)\n",
      "Requirement already satisfied: charset-normalizer<3.0,>=2.0 in c:\\users\\dell\\anaconda3\\lib\\site-packages (from aiohttp->torch-geometric) (2.0.4)\n",
      "Requirement already satisfied: multidict<7.0,>=4.5 in c:\\users\\dell\\anaconda3\\lib\\site-packages (from aiohttp->torch-geometric) (5.1.0)\n",
      "Requirement already satisfied: async-timeout<5.0,>=4.0.0a3 in c:\\users\\dell\\anaconda3\\lib\\site-packages (from aiohttp->torch-geometric) (4.0.1)\n",
      "Requirement already satisfied: yarl<2.0,>=1.0 in c:\\users\\dell\\anaconda3\\lib\\site-packages (from aiohttp->torch-geometric) (1.6.3)\n",
      "Requirement already satisfied: frozenlist>=1.1.1 in c:\\users\\dell\\anaconda3\\lib\\site-packages (from aiohttp->torch-geometric) (1.2.0)\n",
      "Requirement already satisfied: aiosignal>=1.1.2 in c:\\users\\dell\\anaconda3\\lib\\site-packages (from aiohttp->torch-geometric) (1.2.0)\n",
      "Requirement already satisfied: MarkupSafe>=0.23 in c:\\users\\dell\\anaconda3\\lib\\site-packages (from jinja2->torch) (2.0.1)\n",
      "Requirement already satisfied: urllib3<1.27,>=1.21.1 in c:\\users\\dell\\anaconda3\\lib\\site-packages (from requests->torch-geometric) (1.26.9)\n",
      "Requirement already satisfied: certifi>=2017.4.17 in c:\\users\\dell\\anaconda3\\lib\\site-packages (from requests->torch-geometric) (2021.10.8)\n",
      "Requirement already satisfied: idna<4,>=2.5 in c:\\users\\dell\\anaconda3\\lib\\site-packages (from requests->torch-geometric) (3.3)\n",
      "Requirement already satisfied: joblib>=1.2.0 in c:\\users\\dell\\anaconda3\\lib\\site-packages (from scikit-learn->torch-geometric) (1.4.2)\n",
      "Requirement already satisfied: threadpoolctl>=2.0.0 in c:\\users\\dell\\anaconda3\\lib\\site-packages (from scikit-learn->torch-geometric) (3.4.0)\n",
      "Requirement already satisfied: mpmath>=0.19 in c:\\users\\dell\\anaconda3\\lib\\site-packages (from sympy->torch) (1.2.1)\n",
      "Note: you may need to restart the kernel to use updated packages.\n"
     ]
    }
   ],
   "source": [
    "pip install torch torch-geometric transformers"
   ]
  },
  {
   "cell_type": "markdown",
   "id": "4b688444",
   "metadata": {},
   "source": [
    "### Heterogeneous Graph Neural Networks (Hete_GNNs)"
   ]
  },
  {
   "cell_type": "code",
   "execution_count": 25,
   "id": "0d1d9a31",
   "metadata": {},
   "outputs": [
    {
     "name": "stderr",
     "output_type": "stream",
     "text": [
      "C:\\Users\\dell\\anaconda3\\lib\\site-packages\\transformers\\tokenization_utils_base.py:1601: FutureWarning: `clean_up_tokenization_spaces` was not set. It will be set to `True` by default. This behavior will be depracted in transformers v4.45, and will be then set to `False` by default. For more details check this issue: https://github.com/huggingface/transformers/issues/31884\n",
      "  warnings.warn(\n"
     ]
    }
   ],
   "source": [
    "import torch\n",
    "from torch_geometric.data import Data\n",
    "from transformers import BertTokenizer\n",
    "\n",
    "tokenizer = BertTokenizer.from_pretrained('bert-base-uncased')\n",
    "\n",
    "def prepare_data(text, aspects, user):\n",
    "    # Tokenize text\n",
    "    tokens = tokenizer(text, return_tensors='pt', padding=True, truncation=True)\n",
    "    \n",
    "    # Create nodes for words\n",
    "    word_nodes = tokens['input_ids'][0]\n",
    "    \n",
    "    # Create aspect and user nodes (using dummy embeddings here)\n",
    "    aspect_nodes = torch.tensor([len(word_nodes) + i for i in range(len(aspects))])\n",
    "    user_node = torch.tensor([len(word_nodes) + len(aspects)])\n",
    "    \n",
    "    # Combine all nodes\n",
    "    all_nodes = torch.cat([word_nodes, aspect_nodes, user_node.unsqueeze(0)])\n",
    "    \n",
    "    # Create edges (this is a simplified version; adapt as needed)\n",
    "    edges = []\n",
    "    for i, word in enumerate(word_nodes):\n",
    "        for aspect in aspect_nodes:\n",
    "            edges.append([i, aspect])\n",
    "        edges.append([i, user_node.item()])\n",
    "    \n",
    "    edge_index = torch.tensor(edges, dtype=torch.long).t().contiguous()\n",
    "    \n",
    "    return Data(x=all_nodes, edge_index=edge_index)"
   ]
  },
  {
   "cell_type": "code",
   "execution_count": 26,
   "id": "bcec5064",
   "metadata": {},
   "outputs": [],
   "source": [
    "import torch.nn.functional as F\n",
    "from torch_geometric.nn import GATConv, GCNConv, TransformerConv\n",
    "\n",
    "class MLHGAN(torch.nn.Module):\n",
    "    def __init__(self, input_dim, hidden_dim, num_layers):\n",
    "        super(MLHGAN, self).__init__()\n",
    "        \n",
    "        self.convs = torch.nn.ModuleList()\n",
    "        self.attn_convs = torch.nn.ModuleList()\n",
    "\n",
    "        # Multi-layer attention-based graph convolution\n",
    "        for _ in range(num_layers):\n",
    "            self.convs.append(GCNConv(input_dim, hidden_dim))\n",
    "            self.attn_convs.append(GATConv(hidden_dim, hidden_dim))\n",
    "        \n",
    "        self.transformer = TransformerConv(hidden_dim, hidden_dim, heads=8)\n",
    "        self.fc = torch.nn.Linear(hidden_dim, 1)\n",
    "        \n",
    "    def forward(self, data):\n",
    "        x, edge_index = data.x, data.edge_index\n",
    "        \n",
    "        for conv, attn_conv in zip(self.convs, self.attn_convs):\n",
    "            x = F.relu(conv(x, edge_index))\n",
    "            x = F.relu(attn_conv(x, edge_index))\n",
    "        \n",
    "        # Pass through Transformer layer\n",
    "        x = self.transformer(x, edge_index)\n",
    "        \n",
    "        # Final classification layer\n",
    "        x = self.fc(x.mean(dim=0))\n",
    "        \n",
    "        return torch.sigmoid(x)\n",
    "\n",
    "model = MLHGAN(input_dim=768, hidden_dim=256, num_layers=3)"
   ]
  },
  {
   "cell_type": "code",
   "execution_count": 27,
   "id": "6372cc01",
   "metadata": {},
   "outputs": [],
   "source": [
    "import torch\n",
    "import numpy as np\n",
    "\n",
    "def prepare_data(text, aspects, user):\n",
    "    # Example preprocessing; adjust according to your needs\n",
    "    # Convert text, aspects, and user into tensors\n",
    "    \n",
    "    # Dummy example: create feature tensors\n",
    "    word_nodes = torch.tensor(np.random.rand(10, 16), dtype=torch.float)  # Example: 10 word nodes with 16 features each\n",
    "    aspect_nodes = torch.tensor(np.random.rand(5, 16), dtype=torch.float)  # Example: 5 aspect nodes with 16 features each\n",
    "    user_node = torch.tensor(np.random.rand(1, 16), dtype=torch.float)  # Example: 1 user node with 16 features\n",
    "    \n",
    "    # Ensure all nodes are the same dimension for concatenation\n",
    "    all_nodes = torch.cat([word_nodes, aspect_nodes, user_node], dim=0)  # Concatenate along the first dimension\n",
    "    \n",
    "    # Create dummy edges (simplified example)\n",
    "    edges = torch.tensor([[0, 1], [1, 2]], dtype=torch.long)  # Example edges\n",
    "    \n",
    "    # Create labels (binary classification example)\n",
    "    labels = torch.tensor([0, 1], dtype=torch.float)  # Example labels\n",
    "    \n",
    "    return all_nodes, edges, labels\n",
    "\n",
    "# Example DataLoader setup\n",
    "from torch.utils.data import Dataset, DataLoader\n",
    "\n",
    "class CustomDataset(Dataset):\n",
    "    def __init__(self, data):\n",
    "        self.data = data\n",
    "    \n",
    "    def __len__(self):\n",
    "        return len(self.data)\n",
    "    \n",
    "    def __getitem__(self, idx):\n",
    "        return self.data[idx]\n",
    "\n",
    "dummy_data = [prepare_data(\"This is a sample tweet\", [\"aspect1\"], \"user1\") for _ in range(100)]\n",
    "data_loader = DataLoader(CustomDataset(dummy_data), batch_size=32, shuffle=True)"
   ]
  },
  {
   "cell_type": "code",
   "execution_count": 28,
   "id": "e914a7fe",
   "metadata": {},
   "outputs": [],
   "source": [
    "import torch.optim as optim\n",
    "\n",
    "def train(model, data_loader, epochs=10):\n",
    "    optimizer = optim.Adam(model.parameters(), lr=0.001)\n",
    "    criterion = torch.nn.BCELoss()  # Ensure this matches your model's output and task\n",
    "\n",
    "    model.train()\n",
    "    for epoch in range(epochs):\n",
    "        epoch_loss = 0\n",
    "        for data in data_loader:\n",
    "            features, edges, labels = data\n",
    "            \n",
    "            optimizer.zero_grad()\n",
    "            output = model(features)  # Adapt this based on your model's input requirements\n",
    "            loss = criterion(output, labels)\n",
    "            loss.backward()\n",
    "            optimizer.step()\n",
    "            \n",
    "            epoch_loss += loss.item()\n",
    "        \n",
    "        print(f\"Epoch {epoch+1}, Loss: {epoch_loss / len(data_loader)}\")"
   ]
  },
  {
   "cell_type": "code",
   "execution_count": 29,
   "id": "c0888698",
   "metadata": {},
   "outputs": [
    {
     "name": "stdout",
     "output_type": "stream",
     "text": [
      "Requirement already satisfied: torch in c:\\users\\dell\\anaconda3\\lib\\site-packages (2.4.0+cu118)\n",
      "Requirement already satisfied: numpy in c:\\users\\dell\\anaconda3\\lib\\site-packages (1.24.4)\n",
      "Requirement already satisfied: scikit-learn in c:\\users\\dell\\anaconda3\\lib\\site-packages (1.4.2)\n",
      "Requirement already satisfied: filelock in c:\\users\\dell\\anaconda3\\lib\\site-packages (from torch) (3.6.0)\n",
      "Requirement already satisfied: typing-extensions>=4.8.0 in c:\\users\\dell\\anaconda3\\lib\\site-packages (from torch) (4.9.0)\n",
      "Requirement already satisfied: sympy in c:\\users\\dell\\anaconda3\\lib\\site-packages (from torch) (1.10.1)\n",
      "Requirement already satisfied: networkx in c:\\users\\dell\\anaconda3\\lib\\site-packages (from torch) (3.2.1)\n",
      "Requirement already satisfied: jinja2 in c:\\users\\dell\\anaconda3\\lib\\site-packages (from torch) (2.11.3)\n",
      "Requirement already satisfied: fsspec in c:\\users\\dell\\anaconda3\\lib\\site-packages (from torch) (2024.6.1)\n",
      "Requirement already satisfied: scipy>=1.6.0 in c:\\users\\dell\\anaconda3\\lib\\site-packages (from scikit-learn) (1.9.1)\n",
      "Requirement already satisfied: joblib>=1.2.0 in c:\\users\\dell\\anaconda3\\lib\\site-packages (from scikit-learn) (1.4.2)\n",
      "Requirement already satisfied: threadpoolctl>=2.0.0 in c:\\users\\dell\\anaconda3\\lib\\site-packages (from scikit-learn) (3.4.0)\n",
      "Requirement already satisfied: MarkupSafe>=0.23 in c:\\users\\dell\\anaconda3\\lib\\site-packages (from jinja2->torch) (2.0.1)\n",
      "Requirement already satisfied: mpmath>=0.19 in c:\\users\\dell\\anaconda3\\lib\\site-packages (from sympy->torch) (1.2.1)\n",
      "Note: you may need to restart the kernel to use updated packages.\n"
     ]
    }
   ],
   "source": [
    "pip install torch numpy scikit-learn"
   ]
  },
  {
   "cell_type": "code",
   "execution_count": 46,
   "id": "ca50014b",
   "metadata": {},
   "outputs": [
    {
     "name": "stdout",
     "output_type": "stream",
     "text": [
      "Train Accuracy: 0.5300\n",
      "Test Accuracy: 0.4667\n",
      "\n",
      "Classification Report:\n",
      "               precision    recall  f1-score   support\n",
      "\n",
      "           0       0.50      0.56      0.53        16\n",
      "           1       0.42      0.36      0.38        14\n",
      "\n",
      "    accuracy                           0.47        30\n",
      "   macro avg       0.46      0.46      0.46        30\n",
      "weighted avg       0.46      0.47      0.46        30\n",
      "\n",
      "Confusion Matrix:\n",
      " [[9 7]\n",
      " [9 5]]\n"
     ]
    }
   ],
   "source": [
    "import torch\n",
    "import numpy as np\n",
    "from sklearn.metrics import accuracy_score, classification_report, confusion_matrix\n",
    "from torch.utils.data import DataLoader, Dataset\n",
    "\n",
    "# Define a dummy dataset class for example purposes\n",
    "class DummyDataset(Dataset):\n",
    "    def __init__(self, num_samples):\n",
    "        self.num_samples = num_samples\n",
    "\n",
    "    def __len__(self):\n",
    "        return self.num_samples\n",
    "\n",
    "    def __getitem__(self, idx):\n",
    "        # Dummy data (replace with actual data)\n",
    "        x = torch.randn(10)  # Example feature vector\n",
    "        y = torch.randint(0, 2, (1,))  # Example label\n",
    "        return {'x': x, 'y': y}\n",
    "\n",
    "def evaluate(model, data_loader):\n",
    "    model.eval()\n",
    "    all_preds = []\n",
    "    all_labels = []\n",
    "\n",
    "    with torch.no_grad():\n",
    "        for data in data_loader:\n",
    "            output = model(data['x'])  # assuming data['x'] is your input features\n",
    "            preds = torch.argmax(output, dim=1)  # assuming multi-class classification\n",
    "            all_preds.extend(preds.cpu().numpy())\n",
    "            all_labels.extend(data['y'].cpu().numpy())\n",
    "\n",
    "    # Compute accuracy, classification report, and confusion matrix\n",
    "    acc = accuracy_score(all_labels, all_preds)\n",
    "    class_report = classification_report(all_labels, all_preds)\n",
    "    conf_matrix = confusion_matrix(all_labels, all_preds)\n",
    "    \n",
    "    return acc, class_report, conf_matrix\n",
    "\n",
    "# Define your model (example)\n",
    "class DummyModel(torch.nn.Module):\n",
    "    def __init__(self):\n",
    "        super(DummyModel, self).__init__()\n",
    "        self.fc = torch.nn.Linear(10, 2)  # Example model with 10 input features and 2 classes\n",
    "\n",
    "    def forward(self, x):\n",
    "        return self.fc(x)\n",
    "\n",
    "# Instantiate your model\n",
    "model = DummyModel()\n",
    "\n",
    "# Example DataLoader setup\n",
    "train_loader = DataLoader(DummyDataset(num_samples=100), batch_size=32, shuffle=True)\n",
    "test_loader = DataLoader(DummyDataset(num_samples=30), batch_size=32, shuffle=False)\n",
    "\n",
    "# Evaluate on training data\n",
    "train_accuracy, train_class_report, train_conf_matrix = evaluate(model, train_loader)\n",
    "\n",
    "# Evaluate on testing data\n",
    "test_accuracy, test_class_report, test_conf_matrix = evaluate(model, test_loader)\n",
    "\n",
    "# Print consolidated results\n",
    "print(f\"Train Accuracy: {train_accuracy:.4f}\")\n",
    "print(f\"Test Accuracy: {test_accuracy:.4f}\")\n",
    "\n",
    "print(\"\\nClassification Report:\\n\", test_class_report)  # Assumes you want to show test classification report\n",
    "print(\"Confusion Matrix:\\n\", test_conf_matrix)  # Assumes you want to show test confusion matrix"
   ]
  },
  {
   "cell_type": "code",
   "execution_count": 31,
   "id": "91c17d6e",
   "metadata": {},
   "outputs": [],
   "source": [
    "import torch\n",
    "from torch_geometric.data import HeteroData\n",
    "\n",
    "# Create a HeteroData object\n",
    "data = HeteroData()\n",
    "\n",
    "# Define node features for different node types\n",
    "data['user'].x = torch.tensor([[1], [2]], dtype=torch.float)  # User nodes\n",
    "data['post'].x = torch.tensor([[3], [4]], dtype=torch.float)  # Post nodes\n",
    "data['hashtag'].x = torch.tensor([[5]], dtype=torch.float)  # Hashtag nodes\n",
    "\n",
    "# Define edges for different types of relationships\n",
    "data['user', 'posts', 'post'].edge_index = torch.tensor([[0, 1], [0, 1]], dtype=torch.long)  # User to Post\n",
    "data['post', 'has_hashtag', 'hashtag'].edge_index = torch.tensor([[0], [0]], dtype=torch.long)  # Post to Hashtag"
   ]
  },
  {
   "cell_type": "code",
   "execution_count": 32,
   "id": "debab701",
   "metadata": {},
   "outputs": [],
   "source": [
    "import networkx as nx\n",
    "\n",
    "def convert_to_networkx(data):\n",
    "    G = nx.DiGraph()  # Directed graph\n",
    "    \n",
    "    # Add nodes with type attributes\n",
    "    for node_type in ['user', 'post', 'hashtag']:\n",
    "        for i in range(data[node_type].x.size(0)):\n",
    "            G.add_node(f\"{node_type}_{i}\", type=node_type)\n",
    "    \n",
    "    # Add edges\n",
    "    for src_type, edge_label, dst_type in [('user', 'posts', 'post'), ('post', 'has_hashtag', 'hashtag')]:\n",
    "        edge_index = data[src_type, edge_label, dst_type].edge_index\n",
    "        for src, dst in edge_index.t().tolist():\n",
    "            G.add_edge(f\"{src_type}_{src}\", f\"{dst_type}_{dst}\")\n",
    "    \n",
    "    return G\n",
    "\n",
    "# Convert to NetworkX graph\n",
    "nx_graph = convert_to_networkx(data)"
   ]
  },
  {
   "cell_type": "code",
   "execution_count": 33,
   "id": "48a33e0b",
   "metadata": {},
   "outputs": [
    {
     "data": {
      "image/png": "[encoded data removed]",
      "text/plain": [
       "<Figure size 720x576 with 1 Axes>"
      ]
     },
     "metadata": {},
     "output_type": "display_data"
    }
   ],
   "source": [
    "import matplotlib.pyplot as plt\n",
    "\n",
    "def draw_graph(G):\n",
    "    # Define node colors based on node type\n",
    "    color_map = {'user': 'lightblue', 'post': 'lightgreen', 'hashtag': 'lightcoral'}\n",
    "    node_colors = [color_map[G.nodes[n]['type']] for n in G.nodes]\n",
    "    \n",
    "    # Define node positions using spring layout\n",
    "    pos = nx.spring_layout(G)\n",
    "    \n",
    "    # Draw the graph\n",
    "    plt.figure(figsize=(10, 8))\n",
    "    nx.draw(G, pos, with_labels=True, node_color=node_colors, node_size=500, font_size=10, font_color='black', edge_color='gray')\n",
    "    \n",
    "    # Show plot\n",
    "    plt.title(\"Heterogeneous Graph Visualization\")\n",
    "    plt.show()\n",
    "\n",
    "# Draw the graph\n",
    "draw_graph(nx_graph)"
   ]
  },
  {
   "cell_type": "markdown",
   "id": "6d9dcc9b",
   "metadata": {},
   "source": [
    "### Combination of BERT (transformer model), LSTM, and CNN"
   ]
  },
  {
   "cell_type": "code",
   "execution_count": 34,
   "id": "8ef354a6",
   "metadata": {},
   "outputs": [
    {
     "name": "stderr",
     "output_type": "stream",
     "text": [
      "C:\\Users\\dell\\anaconda3\\lib\\site-packages\\transformers\\tokenization_utils_base.py:1601: FutureWarning: `clean_up_tokenization_spaces` was not set. It will be set to `True` by default. This behavior will be depracted in transformers v4.45, and will be then set to `False` by default. For more details check this issue: https://github.com/huggingface/transformers/issues/31884\n",
      "  warnings.warn(\n"
     ]
    }
   ],
   "source": [
    "import torch\n",
    "from torch.utils.data import Dataset, DataLoader\n",
    "from transformers import BertTokenizer, BertModel\n",
    "from sklearn.model_selection import train_test_split\n",
    "\n",
    "# Example preprocessing function\n",
    "def preprocess(texts, labels, max_length=128):\n",
    "    tokenizer = BertTokenizer.from_pretrained('bert-base-uncased')\n",
    "    inputs = tokenizer(texts, max_length=max_length, padding=True, truncation=True, return_tensors=\"pt\")\n",
    "    return inputs['input_ids'], inputs['attention_mask'], torch.tensor(labels)\n",
    "\n",
    "class SentimentDataset(Dataset):\n",
    "    def __init__(self, texts, labels, max_length=128):\n",
    "        self.input_ids, self.attention_mask, self.labels = preprocess(texts, labels, max_length)\n",
    "    \n",
    "    def __len__(self):\n",
    "        return len(self.labels)\n",
    "    \n",
    "    def __getitem__(self, idx):\n",
    "        return {\n",
    "            'input_ids': self.input_ids[idx],\n",
    "            'attention_mask': self.attention_mask[idx],\n",
    "            'labels': self.labels[idx]\n",
    "        }\n",
    "\n",
    "# Example data\n",
    "texts = [\"I love this!\", \"I hate this.\", \"This is okay.\"]\n",
    "labels = [1, 0, 1]\n",
    "\n",
    "# Create DataLoader\n",
    "train_texts, val_texts, train_labels, val_labels = train_test_split(texts, labels, test_size=0.2)\n",
    "train_dataset = SentimentDataset(train_texts, train_labels)\n",
    "val_dataset = SentimentDataset(val_texts, val_labels)\n",
    "\n",
    "train_loader = DataLoader(train_dataset, batch_size=2, shuffle=True)\n",
    "val_loader = DataLoader(val_dataset, batch_size=2)"
   ]
  },
  {
   "cell_type": "code",
   "execution_count": 35,
   "id": "81c65b9b",
   "metadata": {},
   "outputs": [],
   "source": [
    "import torch.nn as nn\n",
    "from transformers import BertModel\n",
    "\n",
    "class HybridSentimentModel(nn.Module):\n",
    "    def __init__(self, hidden_dim=256, num_classes=2):\n",
    "        super(HybridSentimentModel, self).__init__()\n",
    "        self.bert = BertModel.from_pretrained('bert-base-uncased')\n",
    "        self.lstm = nn.LSTM(input_size=768, hidden_size=hidden_dim, num_layers=1, batch_first=True, bidirectional=True)\n",
    "        self.cnn = nn.Conv1d(in_channels=hidden_dim*2, out_channels=hidden_dim, kernel_size=3, padding=1)\n",
    "        self.fc = nn.Linear(hidden_dim, num_classes)\n",
    "    \n",
    "    def forward(self, input_ids, attention_mask):\n",
    "        outputs = self.bert(input_ids=input_ids, attention_mask=attention_mask)\n",
    "        x = outputs.last_hidden_state\n",
    "        x, _ = self.lstm(x)\n",
    "        x = x.permute(0, 2, 1)  # Change shape for CNN\n",
    "        x = self.cnn(x)\n",
    "        x = x.max(dim=2)[0]  # Max pooling\n",
    "        x = self.fc(x)\n",
    "        return x\n",
    "\n",
    "model = HybridSentimentModel()"
   ]
  },
  {
   "cell_type": "code",
   "execution_count": 36,
   "id": "593a067c",
   "metadata": {},
   "outputs": [
    {
     "name": "stdout",
     "output_type": "stream",
     "text": [
      "Epoch 1, Loss: 0.6855947971343994\n",
      "Epoch 2, Loss: 0.6706502437591553\n",
      "Epoch 3, Loss: 0.6565503478050232\n",
      "Train Accuracy: 1.0000\n",
      "Test Accuracy: 1.0000\n",
      "\n",
      "Classification Report (Validation):\n",
      "               precision    recall  f1-score   support\n",
      "\n",
      "           0       0.00      0.00      0.00       0.0\n",
      "           1       0.00      0.00      0.00       1.0\n",
      "\n",
      "    accuracy                           0.00       1.0\n",
      "   macro avg       0.00      0.00      0.00       1.0\n",
      "weighted avg       0.00      0.00      0.00       1.0\n",
      "\n",
      "Confusion Matrix (Validation):\n",
      " [[0 0]\n",
      " [1 0]]\n"
     ]
    },
    {
     "name": "stderr",
     "output_type": "stream",
     "text": [
      "C:\\Users\\dell\\anaconda3\\lib\\site-packages\\sklearn\\metrics\\_classification.py:1509: UndefinedMetricWarning: Precision is ill-defined and being set to 0.0 in labels with no predicted samples. Use `zero_division` parameter to control this behavior.\n",
      "  _warn_prf(average, modifier, f\"{metric.capitalize()} is\", len(result))\n",
      "C:\\Users\\dell\\anaconda3\\lib\\site-packages\\sklearn\\metrics\\_classification.py:1509: UndefinedMetricWarning: Recall is ill-defined and being set to 0.0 in labels with no true samples. Use `zero_division` parameter to control this behavior.\n",
      "  _warn_prf(average, modifier, f\"{metric.capitalize()} is\", len(result))\n",
      "C:\\Users\\dell\\anaconda3\\lib\\site-packages\\sklearn\\metrics\\_classification.py:1509: UndefinedMetricWarning: Precision is ill-defined and being set to 0.0 in labels with no predicted samples. Use `zero_division` parameter to control this behavior.\n",
      "  _warn_prf(average, modifier, f\"{metric.capitalize()} is\", len(result))\n",
      "C:\\Users\\dell\\anaconda3\\lib\\site-packages\\sklearn\\metrics\\_classification.py:1509: UndefinedMetricWarning: Recall is ill-defined and being set to 0.0 in labels with no true samples. Use `zero_division` parameter to control this behavior.\n",
      "  _warn_prf(average, modifier, f\"{metric.capitalize()} is\", len(result))\n",
      "C:\\Users\\dell\\anaconda3\\lib\\site-packages\\sklearn\\metrics\\_classification.py:1509: UndefinedMetricWarning: Precision is ill-defined and being set to 0.0 in labels with no predicted samples. Use `zero_division` parameter to control this behavior.\n",
      "  _warn_prf(average, modifier, f\"{metric.capitalize()} is\", len(result))\n",
      "C:\\Users\\dell\\anaconda3\\lib\\site-packages\\sklearn\\metrics\\_classification.py:1509: UndefinedMetricWarning: Recall is ill-defined and being set to 0.0 in labels with no true samples. Use `zero_division` parameter to control this behavior.\n",
      "  _warn_prf(average, modifier, f\"{metric.capitalize()} is\", len(result))\n"
     ]
    }
   ],
   "source": [
    "import torch.optim as optim\n",
    "from sklearn.metrics import accuracy_score, classification_report, confusion_matrix\n",
    "\n",
    "def train(model, data_loader, optimizer, criterion):\n",
    "    model.train()\n",
    "    epoch_loss = 0\n",
    "    for batch in data_loader:\n",
    "        input_ids = batch['input_ids']\n",
    "        attention_mask = batch['attention_mask']\n",
    "        labels = batch['labels']\n",
    "        \n",
    "        optimizer.zero_grad()\n",
    "        outputs = model(input_ids, attention_mask)\n",
    "        loss = criterion(outputs, labels)\n",
    "        loss.backward()\n",
    "        optimizer.step()\n",
    "        \n",
    "        epoch_loss += loss.item()\n",
    "    \n",
    "    return epoch_loss / len(data_loader)\n",
    "\n",
    "def evaluate(model, data_loader):\n",
    "    model.eval()\n",
    "    all_preds = []\n",
    "    all_labels = []\n",
    "    with torch.no_grad():\n",
    "        for batch in data_loader:\n",
    "            input_ids = batch['input_ids']\n",
    "            attention_mask = batch['attention_mask']\n",
    "            labels = batch['labels']\n",
    "            \n",
    "            outputs = model(input_ids, attention_mask)\n",
    "            preds = torch.argmax(outputs, dim=1)\n",
    "            all_preds.extend(preds.cpu().numpy())\n",
    "            all_labels.extend(labels.cpu().numpy())\n",
    "    \n",
    "    acc = accuracy_score(all_labels, all_preds)\n",
    "    class_report = classification_report(all_labels, all_preds)\n",
    "    conf_matrix = confusion_matrix(all_labels, all_preds)\n",
    "    \n",
    "    return acc, class_report, conf_matrix\n",
    "\n",
    "# Training setup\n",
    "optimizer = optim.Adam(model.parameters(), lr=1e-5)\n",
    "criterion = nn.CrossEntropyLoss()\n",
    "\n",
    "# Train the model\n",
    "for epoch in range(3):\n",
    "    train_loss = train(model, train_loader, optimizer, criterion)\n",
    "    print(f'Epoch {epoch+1}, Loss: {train_loss}')\n",
    "\n",
    "# Evaluate the model\n",
    "train_accuracy, train_class_report, train_conf_matrix = evaluate(model, train_loader)\n",
    "test_accuracy, val_class_report, val_conf_matrix = evaluate(model, val_loader)\n",
    "\n",
    "# Print results\n",
    "print(f\"Train Accuracy: {train_accuracy:.4f}\")\n",
    "print(f\"Test Accuracy: {train_accuracy:.4f}\")\n",
    "\n",
    "print(\"\\nClassification Report (Validation):\\n\", val_class_report)\n",
    "print(\"Confusion Matrix (Validation):\\n\", val_conf_matrix)"
   ]
  },
  {
   "cell_type": "markdown",
   "id": "7baa1854",
   "metadata": {},
   "source": [
    "### Node2Vec: A method for learning continuous feature representations for nodes in a graph. Can be combined with traditional classifiers."
   ]
  },
  {
   "cell_type": "code",
   "execution_count": 39,
   "id": "db700b66",
   "metadata": {},
   "outputs": [
    {
     "name": "stdout",
     "output_type": "stream",
     "text": [
      "Requirement already satisfied: node2vec in c:\\users\\dell\\anaconda3\\lib\\site-packages (0.5.0)\n",
      "Requirement already satisfied: networkx in c:\\users\\dell\\anaconda3\\lib\\site-packages (3.2.1)\n",
      "Requirement already satisfied: scikit-learn in c:\\users\\dell\\anaconda3\\lib\\site-packages (1.4.2)\n",
      "Collecting gensim<5.0.0,>=4.3.0 (from node2vec)\n",
      "  Using cached gensim-4.3.3-cp39-cp39-win_amd64.whl.metadata (8.2 kB)\n",
      "Requirement already satisfied: joblib<2.0.0,>=1.4.0 in c:\\users\\dell\\anaconda3\\lib\\site-packages (from node2vec) (1.4.2)\n",
      "Requirement already satisfied: numpy<2.0.0,>=1.24.0 in c:\\users\\dell\\anaconda3\\lib\\site-packages (from node2vec) (1.24.4)\n",
      "Requirement already satisfied: tqdm<5.0.0,>=4.66.1 in c:\\users\\dell\\anaconda3\\lib\\site-packages (from node2vec) (4.66.5)\n",
      "Requirement already satisfied: scipy>=1.6.0 in c:\\users\\dell\\anaconda3\\lib\\site-packages (from scikit-learn) (1.9.1)\n",
      "Requirement already satisfied: threadpoolctl>=2.0.0 in c:\\users\\dell\\anaconda3\\lib\\site-packages (from scikit-learn) (3.4.0)\n",
      "Requirement already satisfied: smart-open>=1.8.1 in c:\\users\\dell\\anaconda3\\lib\\site-packages (from gensim<5.0.0,>=4.3.0->node2vec) (5.1.0)\n",
      "Requirement already satisfied: colorama in c:\\users\\dell\\anaconda3\\lib\\site-packages (from tqdm<5.0.0,>=4.66.1->node2vec) (0.4.4)\n",
      "Using cached gensim-4.3.3-cp39-cp39-win_amd64.whl (24.0 MB)\n",
      "Installing collected packages: gensim\n",
      "  Attempting uninstall: gensim\n",
      "    Found existing installation: gensim 4.1.2\n",
      "    Uninstalling gensim-4.1.2:\n",
      "      Successfully uninstalled gensim-4.1.2\n",
      "Successfully installed gensim-4.3.3\n",
      "Note: you may need to restart the kernel to use updated packages.\n"
     ]
    }
   ],
   "source": [
    "pip install node2vec networkx scikit-learn"
   ]
  },
  {
   "cell_type": "code",
   "execution_count": 40,
   "id": "6695e0e0",
   "metadata": {},
   "outputs": [
    {
     "name": "stdout",
     "output_type": "stream",
     "text": [
      "Requirement already satisfied: scipy in c:\\users\\dell\\anaconda3\\lib\\site-packages (1.9.1)\n",
      "Collecting scipy\n",
      "  Using cached scipy-1.13.1-cp39-cp39-win_amd64.whl.metadata (60 kB)\n",
      "Requirement already satisfied: gensim in c:\\users\\dell\\anaconda3\\lib\\site-packages (4.3.3)\n",
      "Requirement already satisfied: numpy<2.3,>=1.22.4 in c:\\users\\dell\\anaconda3\\lib\\site-packages (from scipy) (1.24.4)\n",
      "Requirement already satisfied: smart-open>=1.8.1 in c:\\users\\dell\\anaconda3\\lib\\site-packages (from gensim) (5.1.0)\n",
      "Using cached scipy-1.13.1-cp39-cp39-win_amd64.whl (46.2 MB)\n",
      "Installing collected packages: scipy\n",
      "  Attempting uninstall: scipy\n",
      "    Found existing installation: scipy 1.9.1\n",
      "    Uninstalling scipy-1.9.1:\n",
      "      Successfully uninstalled scipy-1.9.1\n",
      "Successfully installed scipy-1.13.1\n",
      "Note: you may need to restart the kernel to use updated packages.\n"
     ]
    },
    {
     "name": "stderr",
     "output_type": "stream",
     "text": [
      "  WARNING: Failed to remove contents in a temporary directory 'C:\\Users\\dell\\anaconda3\\Lib\\site-packages\\~-ipy'.\n",
      "  You can safely remove it manually.\n"
     ]
    }
   ],
   "source": [
    "pip install --upgrade scipy gensim"
   ]
  },
  {
   "cell_type": "code",
   "execution_count": 41,
   "id": "0cba17ed",
   "metadata": {},
   "outputs": [
    {
     "name": "stdout",
     "output_type": "stream",
     "text": [
      "Collecting scipy==1.9.1\n",
      "  Using cached scipy-1.9.1-cp39-cp39-win_amd64.whl.metadata (2.2 kB)\n",
      "Collecting gensim==4.1.2\n",
      "  Using cached gensim-4.1.2-cp39-cp39-win_amd64.whl.metadata (8.3 kB)\n",
      "Requirement already satisfied: numpy<1.25.0,>=1.18.5 in c:\\users\\dell\\anaconda3\\lib\\site-packages (from scipy==1.9.1) (1.24.4)\n",
      "Requirement already satisfied: smart-open>=1.8.1 in c:\\users\\dell\\anaconda3\\lib\\site-packages (from gensim==4.1.2) (5.1.0)\n",
      "Requirement already satisfied: Cython==0.29.23 in c:\\users\\dell\\anaconda3\\lib\\site-packages (from gensim==4.1.2) (0.29.23)\n",
      "Using cached scipy-1.9.1-cp39-cp39-win_amd64.whl (38.6 MB)\n",
      "Using cached gensim-4.1.2-cp39-cp39-win_amd64.whl (24.0 MB)\n",
      "Installing collected packages: scipy, gensim\n",
      "  Attempting uninstall: scipy\n",
      "    Found existing installation: scipy 1.13.1\n",
      "    Uninstalling scipy-1.13.1:\n",
      "      Successfully uninstalled scipy-1.13.1\n",
      "  Attempting uninstall: gensim\n",
      "    Found existing installation: gensim 4.3.3\n",
      "    Uninstalling gensim-4.3.3:\n",
      "      Successfully uninstalled gensim-4.3.3\n",
      "Successfully installed gensim-4.1.2 scipy-1.9.1\n",
      "Note: you may need to restart the kernel to use updated packages.\n"
     ]
    },
    {
     "name": "stderr",
     "output_type": "stream",
     "text": [
      "ERROR: pip's dependency resolver does not currently take into account all the packages that are installed. This behaviour is the source of the following dependency conflicts.\n",
      "node2vec 0.5.0 requires gensim<5.0.0,>=4.3.0, but you have gensim 4.1.2 which is incompatible.\n"
     ]
    }
   ],
   "source": [
    "pip install scipy==1.9.1 gensim==4.1.2"
   ]
  },
  {
   "cell_type": "code",
   "execution_count": 42,
   "id": "5a0aa1e2",
   "metadata": {},
   "outputs": [
    {
     "name": "stdout",
     "output_type": "stream",
     "text": [
      "Note: you may need to restart the kernel to use updated packages.\n"
     ]
    },
    {
     "name": "stderr",
     "output_type": "stream",
     "text": [
      "ERROR: Ignored the following versions that require a different python version: 0.10.0 Requires-Python >=3.6.0, <3.8.0; 0.11.0 Requires-Python >=3.6.0, <3.8.0; 0.11.1 Requires-Python >=3.6.0, <3.8.0; 0.4.0 Requires-Python >=3.6,<3.7; 0.4.0b0 Requires-Python >=3.6,<3.7; 0.4.1 Requires-Python >=3.5.0, <3.7.0; 0.5.0 Requires-Python >=3.5.0, <3.7.0; 0.6.0 Requires-Python >=3.5.0, <3.7.0; 0.6.1 Requires-Python >=3.5.0, <3.7.0; 0.7.0 Requires-Python >=3.5.0, <3.8.0; 0.7.1 Requires-Python >=3.5.0, <3.8.0; 0.7.2 Requires-Python >=3.5.0, <3.8.0; 0.7.3 Requires-Python >=3.5.0, <3.8.0; 0.8.0 Requires-Python >=3.5.0, <3.8.0; 0.8.1 Requires-Python >=3.5.0, <3.8.0; 0.8.2 Requires-Python >=3.5.0, <3.8.0; 0.8.3 Requires-Python >=3.5.0, <3.8.0; 0.8.4 Requires-Python >=3.5.0, <3.8.0; 0.9.0 Requires-Python >=3.6.0, <3.8.0; 1.0.0 Requires-Python >=3.6.0, <3.8.0; 1.0.0rc1 Requires-Python >=3.6.0, <3.8.0; 1.1.0 Requires-Python >=3.6.0, <3.9.0; 1.2.0 Requires-Python >=3.6.0, <3.9.0; 1.2.1 Requires-Python >=3.6.0, <3.9.0\n",
      "ERROR: Could not find a version that satisfies the requirement stellargraph (from versions: none)\n",
      "ERROR: No matching distribution found for stellargraph\n"
     ]
    }
   ],
   "source": [
    "pip install stellargraph"
   ]
  },
  {
   "cell_type": "code",
   "execution_count": 1,
   "id": "c90084b3",
   "metadata": {},
   "outputs": [
    {
     "data": {
      "application/vnd.jupyter.widget-view+json": {
       "model_id": "2f262177029b4820adb47ec79dc6d79b",
       "version_major": 2,
       "version_minor": 0
      },
      "text/plain": [
       "Computing transition probabilities:   0%|          | 0/7 [00:00<?, ?it/s]"
      ]
     },
     "metadata": {},
     "output_type": "display_data"
    },
    {
     "name": "stdout",
     "output_type": "stream",
     "text": [
      "Embeddings shape: (7, 64)\n",
      "Labels length: 7\n"
     ]
    },
    {
     "data": {
      "image/png": "[encoded data removed]",
      "text/plain": [
       "<Figure size 576x432 with 1 Axes>"
      ]
     },
     "metadata": {
      "needs_background": "light"
     },
     "output_type": "display_data"
    },
    {
     "name": "stdout",
     "output_type": "stream",
     "text": [
      "Training Accuracy Score: 0.8\n",
      "Testing Accuracy Score: 0.5\n",
      "\n",
      "Classification Report on Test Data:\n",
      "               precision    recall  f1-score   support\n",
      "\n",
      "           0       0.00      0.00      0.00         0\n",
      "           1       1.00      0.50      0.67         2\n",
      "\n",
      "    accuracy                           0.50         2\n",
      "   macro avg       0.50      0.25      0.33         2\n",
      "weighted avg       1.00      0.50      0.67         2\n",
      "\n"
     ]
    },
    {
     "name": "stderr",
     "output_type": "stream",
     "text": [
      "C:\\Users\\dell\\anaconda3\\lib\\site-packages\\sklearn\\metrics\\_classification.py:1509: UndefinedMetricWarning: Recall is ill-defined and being set to 0.0 in labels with no true samples. Use `zero_division` parameter to control this behavior.\n",
      "  _warn_prf(average, modifier, f\"{metric.capitalize()} is\", len(result))\n",
      "C:\\Users\\dell\\anaconda3\\lib\\site-packages\\sklearn\\metrics\\_classification.py:1509: UndefinedMetricWarning: Recall is ill-defined and being set to 0.0 in labels with no true samples. Use `zero_division` parameter to control this behavior.\n",
      "  _warn_prf(average, modifier, f\"{metric.capitalize()} is\", len(result))\n",
      "C:\\Users\\dell\\anaconda3\\lib\\site-packages\\sklearn\\metrics\\_classification.py:1509: UndefinedMetricWarning: Recall is ill-defined and being set to 0.0 in labels with no true samples. Use `zero_division` parameter to control this behavior.\n",
      "  _warn_prf(average, modifier, f\"{metric.capitalize()} is\", len(result))\n"
     ]
    }
   ],
   "source": [
    "import networkx as nx\n",
    "import numpy as np\n",
    "from node2vec import Node2Vec\n",
    "from sklearn.model_selection import train_test_split\n",
    "from sklearn.naive_bayes import GaussianNB\n",
    "from sklearn.metrics import accuracy_score, classification_report, confusion_matrix\n",
    "import seaborn as sns\n",
    "import matplotlib.pyplot as plt\n",
    "from sklearn.decomposition import PCA\n",
    "import pandas as pd\n",
    "\n",
    "# Create a sample graph\n",
    "G = nx.Graph()\n",
    "edges = [\n",
    "    (1, 2), (1, 3), (2, 4), (2, 5), (3, 6),\n",
    "    (4, 7), (5, 7), (6, 7)\n",
    "]\n",
    "G.add_edges_from(edges)\n",
    "\n",
    "# Node2Vec parameters\n",
    "node2vec = Node2Vec(G, dimensions=64, walk_length=10, num_walks=100, workers=4)\n",
    "model = node2vec.fit(window=5, min_count=1, sg=1)\n",
    "\n",
    "# Extract node embeddings\n",
    "embeddings = np.array([model.wv[str(node)] for node in G.nodes()])\n",
    "node_labels = [1, 1, 0, 0, 0, 1, 1]  # Example labels matching the number of nodes\n",
    "\n",
    "# Check sizes of embeddings and labels\n",
    "print(\"Embeddings shape:\", embeddings.shape)\n",
    "print(\"Labels length:\", len(node_labels))\n",
    "\n",
    "# Ensure embeddings and labels are aligned\n",
    "if len(node_labels) != len(G.nodes()):\n",
    "    raise ValueError(\"Number of labels does not match the number of nodes.\")\n",
    "\n",
    "# Convert node labels to numpy array\n",
    "y = np.array(node_labels)\n",
    "\n",
    "# Reduce dimensionality for visualization (optional)\n",
    "pca = PCA(n_components=2)\n",
    "embeddings_2d = pca.fit_transform(embeddings)\n",
    "\n",
    "# Split the data\n",
    "X_train, X_test, y_train, y_test = train_test_split(embeddings_2d, y, test_size=0.2, random_state=42)\n",
    "\n",
    "# Initialize and train the Gaussian Naive Bayes model\n",
    "model_nb = GaussianNB()\n",
    "model_nb.fit(X_train, y_train)\n",
    "\n",
    "# Predict on training data and test data\n",
    "y_train_pred = model_nb.predict(X_train)\n",
    "y_test_pred = model_nb.predict(X_test)\n",
    "\n",
    "# Calculate accuracy scores\n",
    "train_accuracy = accuracy_score(y_train, y_train_pred)\n",
    "test_accuracy = accuracy_score(y_test, y_test_pred)\n",
    "\n",
    "# Generate and plot confusion matrix\n",
    "conf_matrix = confusion_matrix(y_test, y_test_pred, labels=np.unique(y))\n",
    "conf_matrix_df = pd.DataFrame(conf_matrix, index=np.unique(y), columns=np.unique(y))\n",
    "\n",
    "plt.figure(figsize=(8, 6))\n",
    "sns.heatmap(conf_matrix_df, annot=True, fmt='d', cmap='Blues', cbar=False)\n",
    "plt.title('Confusion Matrix')\n",
    "plt.xlabel('Predicted')\n",
    "plt.ylabel('Actual')\n",
    "plt.show()\n",
    "\n",
    "# Print results\n",
    "print(\"Training Accuracy Score:\", train_accuracy)\n",
    "print(\"Testing Accuracy Score:\", test_accuracy)\n",
    "print(\"\\nClassification Report on Test Data:\\n\", classification_report(y_test, y_test_pred))"
   ]
  },
  {
   "cell_type": "markdown",
   "id": "fae6b0a4",
   "metadata": {},
   "source": [
    "### KNN WITH XGBOOST"
   ]
  },
  {
   "cell_type": "code",
   "execution_count": 12,
   "id": "e9376586",
   "metadata": {},
   "outputs": [
    {
     "name": "stdout",
     "output_type": "stream",
     "text": [
      "Combined Train Accuracy: 1.0000\n",
      "Combined Test Accuracy: 0.9667\n",
      "Combined Classification Report:\n",
      "               precision    recall  f1-score   support\n",
      "\n",
      "     Class 0       0.95      0.98      0.97       141\n",
      "     Class 1       0.98      0.96      0.97       159\n",
      "\n",
      "    accuracy                           0.97       300\n",
      "   macro avg       0.97      0.97      0.97       300\n",
      "weighted avg       0.97      0.97      0.97       300\n",
      "\n",
      "Combined Confusion Matrix:\n",
      " [[138   3]\n",
      " [  7 152]]\n"
     ]
    }
   ],
   "source": [
    "from sklearn.datasets import make_classification\n",
    "from sklearn.model_selection import train_test_split\n",
    "from sklearn.neighbors import KNeighborsClassifier\n",
    "from xgboost import XGBClassifier\n",
    "from sklearn.metrics import accuracy_score, classification_report, confusion_matrix\n",
    "import numpy as np\n",
    "\n",
    "# Generate sample data with 2 classes\n",
    "X, y = make_classification(n_samples=1000, n_classes=2, random_state=0)\n",
    "\n",
    "# Split data into training and test sets\n",
    "X_train, X_test, y_train, y_test = train_test_split(X, y, test_size=0.3, random_state=0)\n",
    "\n",
    "# Train KNN classifier\n",
    "knn = KNeighborsClassifier(n_neighbors=5)\n",
    "knn.fit(X_train, y_train)\n",
    "\n",
    "# Train XGBoost classifier\n",
    "xgb = XGBClassifier(use_label_encoder=False, eval_metric='mlogloss')\n",
    "xgb.fit(X_train, y_train)\n",
    "\n",
    "# Predict using KNN\n",
    "y_knn_train = knn.predict(X_train)\n",
    "y_knn_test = knn.predict(X_test)\n",
    "\n",
    "# Predict using XGBoost\n",
    "y_xgb_train = xgb.predict(X_train)\n",
    "y_xgb_test = xgb.predict(X_test)\n",
    "\n",
    "# Combine KNN and XGBoost predictions using majority voting\n",
    "y_combined_train = np.where(y_knn_train == y_xgb_train, y_knn_train, y_xgb_train)\n",
    "y_combined_test = np.where(y_knn_test == y_xgb_test, y_knn_test, y_xgb_test)\n",
    "\n",
    "# Define labels\n",
    "labels = ['Class 0', 'Class 1']\n",
    "\n",
    "# Calculate and print accuracy, classification report, and confusion matrix\n",
    "train_accuracy_combined = accuracy_score(y_train, y_combined_train)\n",
    "test_accuracy_combined = accuracy_score(y_test, y_combined_test)\n",
    "\n",
    "print(f'Combined Train Accuracy: {train_accuracy_combined:.4f}')\n",
    "print(f'Combined Test Accuracy: {test_accuracy_combined:.4f}')\n",
    "print(\"Combined Classification Report:\\n\", classification_report(y_test, y_combined_test, target_names=labels))\n",
    "print(\"Combined Confusion Matrix:\\n\", confusion_matrix(y_test, y_combined_test))"
   ]
  },
  {
   "cell_type": "markdown",
   "id": "e76e8a36",
   "metadata": {},
   "source": [
    "### CNN + LSTM"
   ]
  },
  {
   "cell_type": "code",
   "execution_count": 13,
   "id": "f9a5752f",
   "metadata": {},
   "outputs": [
    {
     "name": "stdout",
     "output_type": "stream",
     "text": [
      "Requirement already satisfied: tensorflow in c:\\users\\dell\\anaconda3\\lib\\site-packages (2.15.0)\n",
      "Requirement already satisfied: tensorflow-intel==2.15.0 in c:\\users\\dell\\anaconda3\\lib\\site-packages (from tensorflow) (2.15.0)\n",
      "Requirement already satisfied: absl-py>=1.0.0 in c:\\users\\dell\\anaconda3\\lib\\site-packages (from tensorflow-intel==2.15.0->tensorflow) (2.0.0)\n",
      "Requirement already satisfied: astunparse>=1.6.0 in c:\\users\\dell\\anaconda3\\lib\\site-packages (from tensorflow-intel==2.15.0->tensorflow) (1.6.3)\n",
      "Requirement already satisfied: flatbuffers>=23.5.26 in c:\\users\\dell\\anaconda3\\lib\\site-packages (from tensorflow-intel==2.15.0->tensorflow) (23.5.26)\n",
      "Requirement already satisfied: gast!=0.5.0,!=0.5.1,!=0.5.2,>=0.2.1 in c:\\users\\dell\\anaconda3\\lib\\site-packages (from tensorflow-intel==2.15.0->tensorflow) (0.5.4)\n",
      "Requirement already satisfied: google-pasta>=0.1.1 in c:\\users\\dell\\anaconda3\\lib\\site-packages (from tensorflow-intel==2.15.0->tensorflow) (0.2.0)\n",
      "Requirement already satisfied: h5py>=2.9.0 in c:\\users\\dell\\anaconda3\\lib\\site-packages (from tensorflow-intel==2.15.0->tensorflow) (3.6.0)\n",
      "Requirement already satisfied: libclang>=13.0.0 in c:\\users\\dell\\anaconda3\\lib\\site-packages (from tensorflow-intel==2.15.0->tensorflow) (16.0.6)\n",
      "Requirement already satisfied: ml-dtypes~=0.2.0 in c:\\users\\dell\\anaconda3\\lib\\site-packages (from tensorflow-intel==2.15.0->tensorflow) (0.2.0)\n",
      "Requirement already satisfied: numpy<2.0.0,>=1.23.5 in c:\\users\\dell\\anaconda3\\lib\\site-packages (from tensorflow-intel==2.15.0->tensorflow) (1.24.4)\n",
      "Requirement already satisfied: opt-einsum>=2.3.2 in c:\\users\\dell\\anaconda3\\lib\\site-packages (from tensorflow-intel==2.15.0->tensorflow) (3.3.0)\n",
      "Requirement already satisfied: packaging in c:\\users\\dell\\anaconda3\\lib\\site-packages (from tensorflow-intel==2.15.0->tensorflow) (21.3)\n",
      "Requirement already satisfied: protobuf!=4.21.0,!=4.21.1,!=4.21.2,!=4.21.3,!=4.21.4,!=4.21.5,<5.0.0dev,>=3.20.3 in c:\\users\\dell\\anaconda3\\lib\\site-packages (from tensorflow-intel==2.15.0->tensorflow) (4.23.4)\n",
      "Requirement already satisfied: setuptools in c:\\users\\dell\\anaconda3\\lib\\site-packages (from tensorflow-intel==2.15.0->tensorflow) (61.2.0)\n",
      "Requirement already satisfied: six>=1.12.0 in c:\\users\\dell\\anaconda3\\lib\\site-packages (from tensorflow-intel==2.15.0->tensorflow) (1.16.0)\n",
      "Requirement already satisfied: termcolor>=1.1.0 in c:\\users\\dell\\anaconda3\\lib\\site-packages (from tensorflow-intel==2.15.0->tensorflow) (2.3.0)\n",
      "Requirement already satisfied: typing-extensions>=3.6.6 in c:\\users\\dell\\anaconda3\\lib\\site-packages (from tensorflow-intel==2.15.0->tensorflow) (4.9.0)\n",
      "Requirement already satisfied: wrapt<1.15,>=1.11.0 in c:\\users\\dell\\anaconda3\\lib\\site-packages (from tensorflow-intel==2.15.0->tensorflow) (1.12.1)\n",
      "Requirement already satisfied: tensorflow-io-gcs-filesystem>=0.23.1 in c:\\users\\dell\\anaconda3\\lib\\site-packages (from tensorflow-intel==2.15.0->tensorflow) (0.31.0)\n",
      "Requirement already satisfied: grpcio<2.0,>=1.24.3 in c:\\users\\dell\\anaconda3\\lib\\site-packages (from tensorflow-intel==2.15.0->tensorflow) (1.59.2)\n",
      "Requirement already satisfied: tensorboard<2.16,>=2.15 in c:\\users\\dell\\anaconda3\\lib\\site-packages (from tensorflow-intel==2.15.0->tensorflow) (2.15.1)\n",
      "Requirement already satisfied: tensorflow-estimator<2.16,>=2.15.0 in c:\\users\\dell\\anaconda3\\lib\\site-packages (from tensorflow-intel==2.15.0->tensorflow) (2.15.0)\n",
      "Requirement already satisfied: keras<2.16,>=2.15.0 in c:\\users\\dell\\anaconda3\\lib\\site-packages (from tensorflow-intel==2.15.0->tensorflow) (2.15.0)\n",
      "Requirement already satisfied: wheel<1.0,>=0.23.0 in c:\\users\\dell\\anaconda3\\lib\\site-packages (from astunparse>=1.6.0->tensorflow-intel==2.15.0->tensorflow) (0.37.1)\n",
      "Requirement already satisfied: google-auth<3,>=1.6.3 in c:\\users\\dell\\anaconda3\\lib\\site-packages (from tensorboard<2.16,>=2.15->tensorflow-intel==2.15.0->tensorflow) (2.23.4)\n",
      "Requirement already satisfied: google-auth-oauthlib<2,>=0.5 in c:\\users\\dell\\anaconda3\\lib\\site-packages (from tensorboard<2.16,>=2.15->tensorflow-intel==2.15.0->tensorflow) (1.1.0)\n",
      "Requirement already satisfied: markdown>=2.6.8 in c:\\users\\dell\\anaconda3\\lib\\site-packages (from tensorboard<2.16,>=2.15->tensorflow-intel==2.15.0->tensorflow) (3.3.4)\n",
      "Requirement already satisfied: requests<3,>=2.21.0 in c:\\users\\dell\\anaconda3\\lib\\site-packages (from tensorboard<2.16,>=2.15->tensorflow-intel==2.15.0->tensorflow) (2.27.1)\n",
      "Requirement already satisfied: tensorboard-data-server<0.8.0,>=0.7.0 in c:\\users\\dell\\anaconda3\\lib\\site-packages (from tensorboard<2.16,>=2.15->tensorflow-intel==2.15.0->tensorflow) (0.7.2)\n",
      "Requirement already satisfied: werkzeug>=1.0.1 in c:\\users\\dell\\anaconda3\\lib\\site-packages (from tensorboard<2.16,>=2.15->tensorflow-intel==2.15.0->tensorflow) (2.0.3)\n",
      "Requirement already satisfied: pyparsing!=3.0.5,>=2.0.2 in c:\\users\\dell\\anaconda3\\lib\\site-packages (from packaging->tensorflow-intel==2.15.0->tensorflow) (3.0.4)\n",
      "Requirement already satisfied: cachetools<6.0,>=2.0.0 in c:\\users\\dell\\anaconda3\\lib\\site-packages (from google-auth<3,>=1.6.3->tensorboard<2.16,>=2.15->tensorflow-intel==2.15.0->tensorflow) (4.2.2)\n",
      "Requirement already satisfied: pyasn1-modules>=0.2.1 in c:\\users\\dell\\anaconda3\\lib\\site-packages (from google-auth<3,>=1.6.3->tensorboard<2.16,>=2.15->tensorflow-intel==2.15.0->tensorflow) (0.2.8)\n",
      "Requirement already satisfied: rsa<5,>=3.1.4 in c:\\users\\dell\\anaconda3\\lib\\site-packages (from google-auth<3,>=1.6.3->tensorboard<2.16,>=2.15->tensorflow-intel==2.15.0->tensorflow) (4.7.2)\n",
      "Requirement already satisfied: requests-oauthlib>=0.7.0 in c:\\users\\dell\\anaconda3\\lib\\site-packages (from google-auth-oauthlib<2,>=0.5->tensorboard<2.16,>=2.15->tensorflow-intel==2.15.0->tensorflow) (1.3.1)\n",
      "Requirement already satisfied: urllib3<1.27,>=1.21.1 in c:\\users\\dell\\anaconda3\\lib\\site-packages (from requests<3,>=2.21.0->tensorboard<2.16,>=2.15->tensorflow-intel==2.15.0->tensorflow) (1.26.9)\n",
      "Requirement already satisfied: certifi>=2017.4.17 in c:\\users\\dell\\anaconda3\\lib\\site-packages (from requests<3,>=2.21.0->tensorboard<2.16,>=2.15->tensorflow-intel==2.15.0->tensorflow) (2021.10.8)\n",
      "Requirement already satisfied: charset-normalizer~=2.0.0 in c:\\users\\dell\\anaconda3\\lib\\site-packages (from requests<3,>=2.21.0->tensorboard<2.16,>=2.15->tensorflow-intel==2.15.0->tensorflow) (2.0.4)\n",
      "Requirement already satisfied: idna<4,>=2.5 in c:\\users\\dell\\anaconda3\\lib\\site-packages (from requests<3,>=2.21.0->tensorboard<2.16,>=2.15->tensorflow-intel==2.15.0->tensorflow) (3.3)\n",
      "Requirement already satisfied: pyasn1<0.5.0,>=0.4.6 in c:\\users\\dell\\anaconda3\\lib\\site-packages (from pyasn1-modules>=0.2.1->google-auth<3,>=1.6.3->tensorboard<2.16,>=2.15->tensorflow-intel==2.15.0->tensorflow) (0.4.8)\n",
      "Requirement already satisfied: oauthlib>=3.0.0 in c:\\users\\dell\\anaconda3\\lib\\site-packages (from requests-oauthlib>=0.7.0->google-auth-oauthlib<2,>=0.5->tensorboard<2.16,>=2.15->tensorflow-intel==2.15.0->tensorflow) (3.2.2)\n",
      "Note: you may need to restart the kernel to use updated packages.\n"
     ]
    }
   ],
   "source": [
    "pip install tensorflow"
   ]
  },
  {
   "cell_type": "code",
   "execution_count": 15,
   "id": "acc9e9d2",
   "metadata": {},
   "outputs": [
    {
     "name": "stdout",
     "output_type": "stream",
     "text": [
      "Epoch 1/5\n",
      "20/20 [==============================] - 18s 691ms/step - loss: 1.6495 - accuracy: 0.2141 - val_loss: 1.6907 - val_accuracy: 0.2313\n",
      "Epoch 2/5\n",
      "20/20 [==============================] - 8s 368ms/step - loss: 0.8448 - accuracy: 0.9266 - val_loss: 1.9126 - val_accuracy: 0.1813\n",
      "Epoch 3/5\n",
      "20/20 [==============================] - 7s 358ms/step - loss: 0.3679 - accuracy: 0.9812 - val_loss: 1.9159 - val_accuracy: 0.1813\n",
      "Epoch 4/5\n",
      "20/20 [==============================] - 8s 379ms/step - loss: 0.0870 - accuracy: 1.0000 - val_loss: 1.9762 - val_accuracy: 0.1750\n",
      "Epoch 5/5\n",
      "20/20 [==============================] - 7s 343ms/step - loss: 0.0350 - accuracy: 1.0000 - val_loss: 1.8834 - val_accuracy: 0.2125\n",
      "25/25 [==============================] - 3s 83ms/step\n",
      "7/7 [==============================] - 1s 74ms/step\n",
      "Train Accuracy: 0.2837499976158142\n",
      "Test Accuracy: 0.2199999988079071\n",
      "Classification Report:\n",
      "               precision    recall  f1-score   support\n",
      "\n",
      "           0       0.16      0.37      0.22        27\n",
      "           1       1.00      0.02      0.04        54\n",
      "           2       0.24      0.72      0.36        46\n",
      "           3       0.00      0.00      0.00        40\n",
      "           4       0.00      0.00      0.00        33\n",
      "\n",
      "    accuracy                           0.22       200\n",
      "   macro avg       0.28      0.22      0.12       200\n",
      "weighted avg       0.35      0.22      0.12       200\n",
      "\n",
      "Confusion Matrix:\n",
      " [[10  0 17  0  0]\n",
      " [17  1 36  0  0]\n",
      " [13  0 33  0  0]\n",
      " [12  0 28  0  0]\n",
      " [12  0 21  0  0]]\n"
     ]
    },
    {
     "name": "stderr",
     "output_type": "stream",
     "text": [
      "C:\\Users\\dell\\anaconda3\\lib\\site-packages\\sklearn\\metrics\\_classification.py:1509: UndefinedMetricWarning: Precision is ill-defined and being set to 0.0 in labels with no predicted samples. Use `zero_division` parameter to control this behavior.\n",
      "  _warn_prf(average, modifier, f\"{metric.capitalize()} is\", len(result))\n",
      "C:\\Users\\dell\\anaconda3\\lib\\site-packages\\sklearn\\metrics\\_classification.py:1509: UndefinedMetricWarning: Precision is ill-defined and being set to 0.0 in labels with no predicted samples. Use `zero_division` parameter to control this behavior.\n",
      "  _warn_prf(average, modifier, f\"{metric.capitalize()} is\", len(result))\n",
      "C:\\Users\\dell\\anaconda3\\lib\\site-packages\\sklearn\\metrics\\_classification.py:1509: UndefinedMetricWarning: Precision is ill-defined and being set to 0.0 in labels with no predicted samples. Use `zero_division` parameter to control this behavior.\n",
      "  _warn_prf(average, modifier, f\"{metric.capitalize()} is\", len(result))\n"
     ]
    }
   ],
   "source": [
    "import numpy as np\n",
    "import tensorflow as tf\n",
    "from tensorflow.keras.models import Sequential\n",
    "from tensorflow.keras.layers import Conv2D, MaxPooling2D, Flatten, LSTM, Dense, TimeDistributed, BatchNormalization\n",
    "from tensorflow.keras.utils import to_categorical\n",
    "from sklearn.metrics import accuracy_score, classification_report, confusion_matrix\n",
    "from sklearn.model_selection import train_test_split\n",
    "\n",
    "# Define parameters\n",
    "sequence_length = 10  # Number of time steps\n",
    "height, width = 64, 64  # Spatial dimensions (e.g., image dimensions)\n",
    "num_channels = 3  # Number of channels (e.g., RGB images)\n",
    "num_classes = 5  # Number of output classes\n",
    "\n",
    "# Generate dummy data\n",
    "X = np.random.random((1000, sequence_length, height, width, num_channels))\n",
    "y = np.random.randint(0, num_classes, (1000,))\n",
    "\n",
    "# One-hot encode target variable\n",
    "y_one_hot = to_categorical(y, num_classes=num_classes)\n",
    "\n",
    "# Split the data\n",
    "X_train, X_test, y_train, y_test = train_test_split(X, y_one_hot, test_size=0.20, random_state=0)\n",
    "\n",
    "# Build the CNN + LSTM model\n",
    "model = Sequential()\n",
    "\n",
    "# TimeDistributed layer to apply Conv2D and MaxPooling2D to each time step independently\n",
    "model.add(TimeDistributed(Conv2D(32, (3, 3), activation='relu', padding='same'), input_shape=(sequence_length, height, width, num_channels)))\n",
    "model.add(TimeDistributed(MaxPooling2D((2, 2))))\n",
    "model.add(TimeDistributed(BatchNormalization()))\n",
    "\n",
    "# Flatten the CNN output before passing to LSTM\n",
    "model.add(TimeDistributed(Flatten()))\n",
    "\n",
    "# Add LSTM layer\n",
    "model.add(LSTM(50, return_sequences=False))\n",
    "\n",
    "# Output layer\n",
    "model.add(Dense(num_classes, activation='softmax'))\n",
    "\n",
    "# Compile the model\n",
    "model.compile(optimizer='adam', loss='categorical_crossentropy', metrics=['accuracy'])\n",
    "\n",
    "# Train the model\n",
    "history = model.fit(X_train, y_train, epochs=5, batch_size=32, validation_split=0.2)\n",
    "\n",
    "# Evaluate the model\n",
    "train_loss, train_accuracy = model.evaluate(X_train, y_train, verbose=0)\n",
    "test_loss, test_accuracy = model.evaluate(X_test, y_test, verbose=0)\n",
    "\n",
    "# Make predictions\n",
    "y_train_pred = np.argmax(model.predict(X_train), axis=-1)\n",
    "y_test_pred = np.argmax(model.predict(X_test), axis=-1)\n",
    "\n",
    "# Convert one-hot encoded test labels to class indices\n",
    "y_test_true = np.argmax(y_test, axis=-1)\n",
    "\n",
    "# Calculate and print metrics\n",
    "print(\"Train Accuracy:\", train_accuracy)\n",
    "print(\"Test Accuracy:\", test_accuracy)\n",
    "\n",
    "print(\"Classification Report:\\n\", classification_report(y_test_true, y_test_pred))\n",
    "print(\"Confusion Matrix:\\n\", confusion_matrix(y_test_true, y_test_pred))"
   ]
  },
  {
   "cell_type": "markdown",
   "id": "c6f7e135",
   "metadata": {},
   "source": [
    "### ANN"
   ]
  },
  {
   "cell_type": "code",
   "execution_count": 16,
   "id": "dfb5083c",
   "metadata": {},
   "outputs": [
    {
     "name": "stdout",
     "output_type": "stream",
     "text": [
      "Epoch 1/10\n",
      "20/20 [==============================] - 1s 16ms/step - loss: 1.6374 - accuracy: 0.1984 - val_loss: 1.6159 - val_accuracy: 0.1937\n",
      "Epoch 2/10\n",
      "20/20 [==============================] - 0s 4ms/step - loss: 1.6097 - accuracy: 0.2344 - val_loss: 1.6190 - val_accuracy: 0.2000\n",
      "Epoch 3/10\n",
      "20/20 [==============================] - 0s 4ms/step - loss: 1.6002 - accuracy: 0.2469 - val_loss: 1.6126 - val_accuracy: 0.2250\n",
      "Epoch 4/10\n",
      "20/20 [==============================] - 0s 4ms/step - loss: 1.5941 - accuracy: 0.2547 - val_loss: 1.6118 - val_accuracy: 0.2250\n",
      "Epoch 5/10\n",
      "20/20 [==============================] - 0s 4ms/step - loss: 1.5909 - accuracy: 0.2594 - val_loss: 1.6100 - val_accuracy: 0.2313\n",
      "Epoch 6/10\n",
      "20/20 [==============================] - 0s 5ms/step - loss: 1.5855 - accuracy: 0.2812 - val_loss: 1.6102 - val_accuracy: 0.2250\n",
      "Epoch 7/10\n",
      "20/20 [==============================] - 0s 4ms/step - loss: 1.5827 - accuracy: 0.2766 - val_loss: 1.6062 - val_accuracy: 0.2250\n",
      "Epoch 8/10\n",
      "20/20 [==============================] - 0s 4ms/step - loss: 1.5768 - accuracy: 0.2922 - val_loss: 1.6102 - val_accuracy: 0.2313\n",
      "Epoch 9/10\n",
      "20/20 [==============================] - 0s 5ms/step - loss: 1.5723 - accuracy: 0.3125 - val_loss: 1.6073 - val_accuracy: 0.2375\n",
      "Epoch 10/10\n",
      "20/20 [==============================] - 0s 4ms/step - loss: 1.5660 - accuracy: 0.3125 - val_loss: 1.6111 - val_accuracy: 0.2313\n",
      "25/25 [==============================] - 0s 1ms/step\n",
      "7/7 [==============================] - 0s 1ms/step\n",
      "Train Accuracy: 0.3050000071525574\n",
      "Test Accuracy: 0.2150000035762787\n",
      "Classification Report:\n",
      "               precision    recall  f1-score   support\n",
      "\n",
      "           0       0.13      0.15      0.14        33\n",
      "           1       0.35      0.17      0.23        40\n",
      "           2       0.18      0.05      0.08        37\n",
      "           3       0.23      0.63      0.33        43\n",
      "           4       0.18      0.04      0.07        47\n",
      "\n",
      "    accuracy                           0.21       200\n",
      "   macro avg       0.21      0.21      0.17       200\n",
      "weighted avg       0.22      0.21      0.17       200\n",
      "\n",
      "Confusion Matrix:\n",
      " [[ 5  3  3 20  2]\n",
      " [ 7  7  1 22  3]\n",
      " [10  4  2 20  1]\n",
      " [10  2  1 27  3]\n",
      " [ 7  4  4 30  2]]\n"
     ]
    }
   ],
   "source": [
    "import numpy as np\n",
    "import tensorflow as tf\n",
    "from tensorflow.keras.models import Sequential\n",
    "from tensorflow.keras.layers import Dense\n",
    "from tensorflow.keras.utils import to_categorical\n",
    "from sklearn.metrics import accuracy_score, classification_report, confusion_matrix\n",
    "from sklearn.model_selection import train_test_split\n",
    "from sklearn.preprocessing import LabelEncoder\n",
    "\n",
    "# Generate dummy data\n",
    "np.random.seed(0)\n",
    "num_samples = 1000\n",
    "num_features = 20\n",
    "num_classes = 5\n",
    "\n",
    "X = np.random.random((num_samples, num_features))\n",
    "y = np.random.randint(0, num_classes, (num_samples,))\n",
    "\n",
    "# One-hot encode target variable\n",
    "y_one_hot = to_categorical(y, num_classes=num_classes)\n",
    "\n",
    "# Split the data\n",
    "X_train, X_test, y_train, y_test = train_test_split(X, y_one_hot, test_size=0.20, random_state=0)\n",
    "\n",
    "# Build the ANN model\n",
    "model = Sequential()\n",
    "model.add(Dense(64, input_dim=num_features, activation='relu'))\n",
    "model.add(Dense(32, activation='relu'))\n",
    "model.add(Dense(num_classes, activation='softmax'))\n",
    "\n",
    "# Compile the model\n",
    "model.compile(optimizer='adam', loss='categorical_crossentropy', metrics=['accuracy'])\n",
    "\n",
    "# Train the model\n",
    "history = model.fit(X_train, y_train, epochs=10, batch_size=32, validation_split=0.2, verbose=1)\n",
    "\n",
    "# Evaluate the model\n",
    "train_loss, train_accuracy = model.evaluate(X_train, y_train, verbose=0)\n",
    "test_loss, test_accuracy = model.evaluate(X_test, y_test, verbose=0)\n",
    "\n",
    "# Make predictions\n",
    "y_train_pred = np.argmax(model.predict(X_train), axis=-1)\n",
    "y_test_pred = np.argmax(model.predict(X_test), axis=-1)\n",
    "\n",
    "# Convert one-hot encoded test labels to class indices\n",
    "y_test_true = np.argmax(y_test, axis=-1)\n",
    "\n",
    "# Calculate and print metrics\n",
    "print(\"Train Accuracy:\", train_accuracy)\n",
    "print(\"Test Accuracy:\", test_accuracy)\n",
    "\n",
    "print(\"Classification Report:\\n\", classification_report(y_test_true, y_test_pred))\n",
    "print(\"Confusion Matrix:\\n\", confusion_matrix(y_test_true, y_test_pred))"
   ]
  },
  {
   "cell_type": "code",
   "execution_count": null,
   "id": "fb76cbf3",
   "metadata": {},
   "outputs": [],
   "source": []
  }
 ],
 "metadata": {
  "kernelspec": {
   "display_name": "Python 3 (ipykernel)",
   "language": "python",
   "name": "python3"
  },
  "language_info": {
   "codemirror_mode": {
    "name": "ipython",
    "version": 3
   },
   "file_extension": ".py",
   "mimetype": "text/x-python",
   "name": "python",
   "nbconvert_exporter": "python",
   "pygments_lexer": "ipython3",
   "version": "3.9.12"
  }
 },
 "nbformat": 4,
 "nbformat_minor": 5
}
